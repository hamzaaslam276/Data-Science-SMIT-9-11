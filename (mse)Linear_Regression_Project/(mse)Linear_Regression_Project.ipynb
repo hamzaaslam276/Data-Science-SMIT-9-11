{
 "cells": [
  {
   "cell_type": "code",
   "execution_count": 1,
   "metadata": {
    "id": "N2CypqeOZwu9"
   },
   "outputs": [],
   "source": [
    "# Step 1: Import necessary libraries\n",
    "import numpy as np\n",
    "import matplotlib.pyplot as plt\n",
    "from sklearn.model_selection import train_test_split\n",
    "from sklearn.linear_model import LinearRegression\n",
    "from sklearn.metrics import mean_squared_error\n",
    "\n",
    "# Explanation:\n",
    "# - `numpy`: Used to create and manipulate numerical data.\n",
    "# - `matplotlib.pyplot`: Used for creating plots and visualizations.\n",
    "# - `train_test_split`: Splits the data into training and testing sets.\n",
    "# - `LinearRegression`: Scikit-learn's implementation of the Linear Regression model.\n",
    "# - `mean_squared_error`: Evaluates the error between actual and predicted values.\n",
    "\n"
   ]
  },
  {
   "cell_type": "code",
   "execution_count": 2,
   "metadata": {
    "id": "yjpivBqfZ4qE"
   },
   "outputs": [],
   "source": [
    "# Step 2: Create synthetic dataset\n",
    "np.random.seed(42)  # Sets a random seed for reproducibility\n",
    "study_hours = np.random.uniform(1, 10, 50).reshape(-1, 1)\n",
    "# Generates 50 random numbers between 1 and 10, reshaped into a column vector\n",
    "\n",
    "scores = study_hours * 10 + np.random.normal(0, 5, study_hours.shape)\n",
    "# Creates scores based on a linear relationship with study_hours, adding noise\n",
    "\n",
    "# Explanation:\n",
    "# - The relationship is defined as `score = study_hours * 10 + noise`.\n",
    "# - `np.random.normal(0, 5, study_hours.shape)` adds normally distributed noise with mean 0 and std. deviation 5."
   ]
  },
  {
   "cell_type": "code",
   "execution_count": 3,
   "metadata": {
    "id": "DpDzVSb8Z4yi"
   },
   "outputs": [],
   "source": [
    "# Step 3: Split the dataset\n",
    "X_train, X_test, y_train, y_test = train_test_split(study_hours, scores, test_size=0.2, random_state=42)\n",
    "\n",
    "# Explanation:\n",
    "# - Splits the data into training (80%) and testing (20%) sets.\n",
    "# - `random_state=42` ensures reproducibility of the split."
   ]
  },
  {
   "cell_type": "code",
   "execution_count": 4,
   "metadata": {
    "colab": {
     "base_uri": "https://localhost:8080/",
     "height": 80
    },
    "id": "WeNrSYDnZ43B",
    "outputId": "986ff444-8eee-4a29-8be1-de0fd6f3847b"
   },
   "outputs": [
    {
     "data": {
      "text/html": [
       "<style>#sk-container-id-1 {color: black;background-color: white;}#sk-container-id-1 pre{padding: 0;}#sk-container-id-1 div.sk-toggleable {background-color: white;}#sk-container-id-1 label.sk-toggleable__label {cursor: pointer;display: block;width: 100%;margin-bottom: 0;padding: 0.3em;box-sizing: border-box;text-align: center;}#sk-container-id-1 label.sk-toggleable__label-arrow:before {content: \"▸\";float: left;margin-right: 0.25em;color: #696969;}#sk-container-id-1 label.sk-toggleable__label-arrow:hover:before {color: black;}#sk-container-id-1 div.sk-estimator:hover label.sk-toggleable__label-arrow:before {color: black;}#sk-container-id-1 div.sk-toggleable__content {max-height: 0;max-width: 0;overflow: hidden;text-align: left;background-color: #f0f8ff;}#sk-container-id-1 div.sk-toggleable__content pre {margin: 0.2em;color: black;border-radius: 0.25em;background-color: #f0f8ff;}#sk-container-id-1 input.sk-toggleable__control:checked~div.sk-toggleable__content {max-height: 200px;max-width: 100%;overflow: auto;}#sk-container-id-1 input.sk-toggleable__control:checked~label.sk-toggleable__label-arrow:before {content: \"▾\";}#sk-container-id-1 div.sk-estimator input.sk-toggleable__control:checked~label.sk-toggleable__label {background-color: #d4ebff;}#sk-container-id-1 div.sk-label input.sk-toggleable__control:checked~label.sk-toggleable__label {background-color: #d4ebff;}#sk-container-id-1 input.sk-hidden--visually {border: 0;clip: rect(1px 1px 1px 1px);clip: rect(1px, 1px, 1px, 1px);height: 1px;margin: -1px;overflow: hidden;padding: 0;position: absolute;width: 1px;}#sk-container-id-1 div.sk-estimator {font-family: monospace;background-color: #f0f8ff;border: 1px dotted black;border-radius: 0.25em;box-sizing: border-box;margin-bottom: 0.5em;}#sk-container-id-1 div.sk-estimator:hover {background-color: #d4ebff;}#sk-container-id-1 div.sk-parallel-item::after {content: \"\";width: 100%;border-bottom: 1px solid gray;flex-grow: 1;}#sk-container-id-1 div.sk-label:hover label.sk-toggleable__label {background-color: #d4ebff;}#sk-container-id-1 div.sk-serial::before {content: \"\";position: absolute;border-left: 1px solid gray;box-sizing: border-box;top: 0;bottom: 0;left: 50%;z-index: 0;}#sk-container-id-1 div.sk-serial {display: flex;flex-direction: column;align-items: center;background-color: white;padding-right: 0.2em;padding-left: 0.2em;position: relative;}#sk-container-id-1 div.sk-item {position: relative;z-index: 1;}#sk-container-id-1 div.sk-parallel {display: flex;align-items: stretch;justify-content: center;background-color: white;position: relative;}#sk-container-id-1 div.sk-item::before, #sk-container-id-1 div.sk-parallel-item::before {content: \"\";position: absolute;border-left: 1px solid gray;box-sizing: border-box;top: 0;bottom: 0;left: 50%;z-index: -1;}#sk-container-id-1 div.sk-parallel-item {display: flex;flex-direction: column;z-index: 1;position: relative;background-color: white;}#sk-container-id-1 div.sk-parallel-item:first-child::after {align-self: flex-end;width: 50%;}#sk-container-id-1 div.sk-parallel-item:last-child::after {align-self: flex-start;width: 50%;}#sk-container-id-1 div.sk-parallel-item:only-child::after {width: 0;}#sk-container-id-1 div.sk-dashed-wrapped {border: 1px dashed gray;margin: 0 0.4em 0.5em 0.4em;box-sizing: border-box;padding-bottom: 0.4em;background-color: white;}#sk-container-id-1 div.sk-label label {font-family: monospace;font-weight: bold;display: inline-block;line-height: 1.2em;}#sk-container-id-1 div.sk-label-container {text-align: center;}#sk-container-id-1 div.sk-container {/* jupyter's `normalize.less` sets `[hidden] { display: none; }` but bootstrap.min.css set `[hidden] { display: none !important; }` so we also need the `!important` here to be able to override the default hidden behavior on the sphinx rendered scikit-learn.org. See: https://github.com/scikit-learn/scikit-learn/issues/21755 */display: inline-block !important;position: relative;}#sk-container-id-1 div.sk-text-repr-fallback {display: none;}</style><div id=\"sk-container-id-1\" class=\"sk-top-container\"><div class=\"sk-text-repr-fallback\"><pre>LinearRegression()</pre><b>In a Jupyter environment, please rerun this cell to show the HTML representation or trust the notebook. <br />On GitHub, the HTML representation is unable to render, please try loading this page with nbviewer.org.</b></div><div class=\"sk-container\" hidden><div class=\"sk-item\"><div class=\"sk-estimator sk-toggleable\"><input class=\"sk-toggleable__control sk-hidden--visually\" id=\"sk-estimator-id-1\" type=\"checkbox\" checked><label for=\"sk-estimator-id-1\" class=\"sk-toggleable__label sk-toggleable__label-arrow\">LinearRegression</label><div class=\"sk-toggleable__content\"><pre>LinearRegression()</pre></div></div></div></div></div>"
      ],
      "text/plain": [
       "LinearRegression()"
      ]
     },
     "execution_count": 4,
     "metadata": {},
     "output_type": "execute_result"
    }
   ],
   "source": [
    "\n",
    "# Step 4: Train the Linear Regression model\n",
    "model = LinearRegression()  # Initializes the Linear Regression model\n",
    "model.fit(X_train, y_train)  # Fits the model to the training data\n",
    "\n",
    "# Explanation:\n",
    "# - `fit()` learns the relationship between `X_train` (study hours) and `y_train` (scores).\n",
    "# - After training, the model can make predictions for unseen data."
   ]
  },
  {
   "cell_type": "code",
   "execution_count": 9,
   "metadata": {
    "colab": {
     "base_uri": "https://localhost:8080/"
    },
    "id": "TMAVEL3gZ46n",
    "outputId": "4b5d471d-3a63-4066-b7eb-3f9f66fb9f53"
   },
   "outputs": [
    {
     "data": {
      "text/plain": [
       "array([[29.43551719],\n",
       "       [49.62398531],\n",
       "       [64.45803605],\n",
       "       [69.33005072],\n",
       "       [57.12145486],\n",
       "       [59.06697074],\n",
       "       [28.31313545],\n",
       "       [80.19942904],\n",
       "       [16.38312618],\n",
       "       [36.42662906]])"
      ]
     },
     "execution_count": 9,
     "metadata": {},
     "output_type": "execute_result"
    }
   ],
   "source": [
    "# Step 5: Make predictions\n",
    "y_pred = model.predict(X_test)  # Predicts scores for the testing data\n",
    "\n",
    "# Explanation:\n",
    "# - `predict()` uses the trained model to make predictions for the test dataset.\n",
    "y_pred"
   ]
  },
  {
   "cell_type": "code",
   "execution_count": 10,
   "metadata": {
    "colab": {
     "base_uri": "https://localhost:8080/"
    },
    "id": "Q7mI57QAZ498",
    "outputId": "375360fb-245b-4deb-bf8e-38111dccd577"
   },
   "outputs": [
    {
     "name": "stdout",
     "output_type": "stream",
     "text": [
      "Mean Squared Error: 19.91\n"
     ]
    }
   ],
   "source": [
    "# Step 6: Evaluate the model\n",
    "mse = mean_squared_error(y_test, y_pred)  # Calculates Mean Squared Error\n",
    "print(f\"Mean Squared Error: {mse:.2f}\")\n",
    "\n",
    "# Explanation:\n",
    "# - `mean_squared_error()` measures the average squared difference between actual and predicted values.\n",
    "# - Lower MSE indicates better model performance."
   ]
  },
  {
   "cell_type": "code",
   "execution_count": 12,
   "metadata": {
    "colab": {
     "base_uri": "https://localhost:8080/",
     "height": 564
    },
    "id": "dDmPh1lfZ5A9",
    "outputId": "8ae5841c-20e5-4362-c7d5-2a1c49fe3f7c"
   },
   "outputs": [
    {
     "data": {
      "image/png": "[encoded data removed]",
      "text/plain": [
       "<Figure size 1000x600 with 1 Axes>"
      ]
     },
     "metadata": {},
     "output_type": "display_data"
    }
   ],
   "source": [
    "# Step 7: Visualize the results\n",
    "plt.figure(figsize=(10, 6))  # Sets the figure size\n",
    "plt.scatter(study_hours, scores, color='blue', label='Actual Data')\n",
    "# Scatter plot of actual study hours vs. scores\n",
    "\n",
    "plt.plot(study_hours, model.predict(study_hours), color='red', label='Regression Line')\n",
    "# Plots the regression line based on the trained model\n",
    "\n",
    "plt.title('Study Hours vs. Exam Scores')  # Sets the title of the plot\n",
    "plt.xlabel('Study Hours')  # Labels the x-axis\n",
    "plt.ylabel('Scores')  # Labels the y-axis\n",
    "plt.legend()  # Displays the legend\n",
    "plt.show()  # Displays the plot\n",
    "\n",
    "# Explanation:\n",
    "# - The scatter plot shows the actual data points (study hours and scores).\n",
    "# - The red line represents the Linear Regression model's predictions."
   ]
  },
  {
   "cell_type": "code",
   "execution_count": null,
   "metadata": {
    "id": "bceMKkaIZ5Yb"
   },
   "outputs": [],
   "source": []
  },
  {
   "cell_type": "code",
   "execution_count": null,
   "metadata": {
    "id": "5CR9wsNPZ5bb"
   },
   "outputs": [],
   "source": []
  }
 ],
 "metadata": {
  "colab": {
   "provenance": []
  },
  "kernelspec": {
   "display_name": "Python 3 (ipykernel)",
   "language": "python",
   "name": "python3"
  },
  "language_info": {
   "codemirror_mode": {
    "name": "ipython",
    "version": 3
   },
   "file_extension": ".py",
   "mimetype": "text/x-python",
   "name": "python",
   "nbconvert_exporter": "python",
   "pygments_lexer": "ipython3",
   "version": "3.11.7"
  },
  "widgets": {
   "application/vnd.jupyter.widget-state+json": {
    "state": {},
    "version_major": 2,
    "version_minor": 0
   }
  }
 },
 "nbformat": 4,
 "nbformat_minor": 4
}
