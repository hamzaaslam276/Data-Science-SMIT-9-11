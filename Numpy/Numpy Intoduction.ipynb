{
 "cells": [
  {
   "cell_type": "code",
   "execution_count": null,
   "id": "1d20cab8-6be0-4680-8388-045594a0a7ae",
   "metadata": {},
   "outputs": [],
   "source": [
    "pip install Numpy"
   ]
  },
  {
   "cell_type": "code",
   "execution_count": 3,
   "id": "d0dda355-676c-4c7f-9212-abfcd2746abb",
   "metadata": {},
   "outputs": [
    {
     "name": "stdout",
     "output_type": "stream",
     "text": [
      "[1 2 3 4 5 6]\n",
      "[1. 2. 3. 4. 5. 6.]\n",
      "['1' '2' '3' '4' '5' '6']\n",
      "<class 'numpy.ndarray'>\n"
     ]
    }
   ],
   "source": [
    "import numpy as np\n",
    "l = [1,2,3,4,5,6]\n",
    "arry = np.array(l) # output in int value\n",
    "arry1 = np.array(l,dtype=float) # output in float value\n",
    "arry2 = np.array(l,dtype='U32') # output in string value\n",
    "print(arry)\n",
    "print(arry1)\n",
    "print(arry2)\n",
    "print(type(arry))"
   ]
  },
  {
   "cell_type": "code",
   "execution_count": 14,
   "id": "aad9dadf-08aa-4fe6-9697-7316403f423a",
   "metadata": {},
   "outputs": [
    {
     "name": "stdout",
     "output_type": "stream",
     "text": [
      "[[1 1 1]\n",
      " [2 2 2]\n",
      " [3 3 3]]\n",
      "2\n"
     ]
    }
   ],
   "source": [
    "l3 = [[1,1,1],[2,2,2],[3,3,3]]\n",
    "array3 = np.array(l3) # output in 3d array\n",
    "print(array3)\n",
    "print(array3.ndim)"
   ]
  },
  {
   "cell_type": "code",
   "execution_count": 6,
   "id": "013e4780-e8fe-4300-9e1b-80d769e69b26",
   "metadata": {},
   "outputs": [
    {
     "name": "stdout",
     "output_type": "stream",
     "text": [
      "[1 2 3 4 5 6 7]\n"
     ]
    }
   ],
   "source": [
    "array4 = np.arange(1,8)\n",
    "print(array4)"
   ]
  },
  {
   "cell_type": "code",
   "execution_count": 17,
   "id": "6cdf2301-c2da-43d2-9cfc-b0c79751ac2b",
   "metadata": {},
   "outputs": [
    {
     "name": "stdout",
     "output_type": "stream",
     "text": [
      "[[1 2 3]\n",
      " [4 5 6]]\n"
     ]
    }
   ],
   "source": [
    "array5 = np.arange(1,7).reshape(2,3) # output 2 row and 3 coloum\n",
    "print(array5)"
   ]
  },
  {
   "cell_type": "code",
   "execution_count": 8,
   "id": "36d2855e-137e-4283-be32-92cb6c0dc339",
   "metadata": {},
   "outputs": [
    {
     "name": "stdout",
     "output_type": "stream",
     "text": [
      "[[1 2 3]\n",
      " [4 5 6]\n",
      " [7 8 9]]\n"
     ]
    }
   ],
   "source": [
    "array6 = np.arange(1,10).reshape(3,3) # output 3 row and 3 coloum\n",
    "print(array6)"
   ]
  },
  {
   "cell_type": "code",
   "execution_count": 9,
   "id": "9a612751-3d21-4568-9df1-a1fc882c75a6",
   "metadata": {},
   "outputs": [
    {
     "name": "stdout",
     "output_type": "stream",
     "text": [
      "[[0. 0.]\n",
      " [0. 0.]\n",
      " [0. 0.]\n",
      " [0. 0.]]\n"
     ]
    }
   ],
   "source": [
    "array7 = np.zeros((4,2))\n",
    "print(array7)"
   ]
  },
  {
   "cell_type": "code",
   "execution_count": 10,
   "id": "e611b6ce-6142-452c-83dc-65554fa3b57b",
   "metadata": {},
   "outputs": [
    {
     "name": "stdout",
     "output_type": "stream",
     "text": [
      "[[1. 1.]\n",
      " [1. 1.]\n",
      " [1. 1.]\n",
      " [1. 1.]]\n"
     ]
    }
   ],
   "source": [
    "array8 = np.ones((4,2))\n",
    "print(array8)"
   ]
  },
  {
   "cell_type": "code",
   "execution_count": 11,
   "id": "57eb4170-ef93-442d-9bc1-9b2b0010d4cd",
   "metadata": {},
   "outputs": [
    {
     "name": "stdout",
     "output_type": "stream",
     "text": [
      "[1. 1. 1. 1.]\n"
     ]
    }
   ],
   "source": [
    "array8 = np.ones(4)\n",
    "print(array8)"
   ]
  },
  {
   "cell_type": "markdown",
   "id": "a9dc4e5d-ca85-4afa-a18d-823ddfc39275",
   "metadata": {},
   "source": [
    "Atributes of Numpy Array\n",
    "1. ndim\n",
    "2. shape\n",
    "3. size\n",
    "4. dtype\n",
    "5. itemsize"
   ]
  },
  {
   "cell_type": "code",
   "execution_count": 12,
   "id": "93496eec-2022-4c72-99fc-d88a46c1b94f",
   "metadata": {},
   "outputs": [
    {
     "name": "stdout",
     "output_type": "stream",
     "text": [
      "1\n",
      "(5,)\n"
     ]
    }
   ],
   "source": [
    "list1 = [1,2,3,4,5]\n",
    "aray1 = np.array(list1)\n",
    "print(aray1.ndim)\n",
    "print(aray1.shape)"
   ]
  },
  {
   "cell_type": "code",
   "execution_count": 20,
   "id": "f2670a59-c148-4263-be4f-0b1ae881cdb0",
   "metadata": {},
   "outputs": [
    {
     "name": "stdout",
     "output_type": "stream",
     "text": [
      "2\n",
      "(3, 3)\n"
     ]
    }
   ],
   "source": [
    "list2 = [[1,2,3],[4,5,6],[7,8,9]]\n",
    "aray2 = np.array(list2)\n",
    "print(aray2.ndim)\n",
    "print(aray2.shape)"
   ]
  },
  {
   "cell_type": "code",
   "execution_count": 9,
   "id": "083cd5d7-1ee6-43e9-b997-6645a45c0b07",
   "metadata": {},
   "outputs": [
    {
     "name": "stdout",
     "output_type": "stream",
     "text": [
      "3\n",
      "(3, 3, 3)\n"
     ]
    }
   ],
   "source": [
    "# list3 = [[[1,2,3],[4,5,6]],[[7,8,9],[3,4,5]]] # output (2,2,3)\n",
    "# list3 = [[[1,2,3],[4,5,6],[4,5,6]],[[7,8,9],[3,4,5],[4,5,6]]] # output (2,3,3)\n",
    "list3 = [[[1,2,3],[4,5,6],[4,5,6]],[[7,8,9],[3,4,5],[4,5,6]],[[7,8,9],[3,4,5],[4,5,6]]] # output (3,3,3)\n",
    "aray3 = np.array(list3)\n",
    "# print(aray3)\n",
    "print(aray3.ndim)\n",
    "print(aray3.shape)"
   ]
  },
  {
   "cell_type": "code",
   "execution_count": 10,
   "id": "cecc5c1c-74c6-44f3-9b87-5f40e424eef2",
   "metadata": {
    "scrolled": true
   },
   "outputs": [
    {
     "name": "stdout",
     "output_type": "stream",
     "text": [
      "Array of a : 482\n",
      "Array of b : [10  2  3  4  5]\n",
      "Array of c : [[1 2 3]\n",
      " [4 5 6]]\n",
      "Array of d : [[[1. 2. 3.]\n",
      "  [4. 5. 6.]]\n",
      "\n",
      " [[1. 2. 3.]\n",
      "  [4. 5. 6.]]\n",
      "\n",
      " [[1. 2. 3.]\n",
      "  [4. 5. 6.]]]\n",
      "Dimensions of a :  0\n",
      "Dimensions of b :  1\n",
      "Dimensions of c :  2\n",
      "Dimensions of d :  3\n",
      "Shape of a : ()\n",
      "Shape of b : (5,)\n",
      "Shape of c : (2, 3)\n",
      "Shape of d : (3, 2, 3)\n",
      "Size of a : 1\n",
      "Size of b : 5\n",
      "Size of c : 6\n",
      "Size of d : 18\n",
      "Type of a : <U3\n",
      "Type of b : int32\n",
      "Type of c : int32\n",
      "Type of d : float64\n",
      "Item size of a : 12\n",
      "Item size of b : 4\n",
      "Item size of c : 4\n",
      "Item size of d : 8\n"
     ]
    }
   ],
   "source": [
    "a = np.array('482')\n",
    "b = np.array([10, 2, 3, 4, 5])\n",
    "c = np.array([[1, 2, 3], [4, 5, 6]])\n",
    "d = np.array([[[1.0, 2.0, 3], [4, 5, 6]], [[1, 2, 3], [4, 5, 6.0]], [[1, 2, 3], [4, 5, 6]]])\n",
    "print('Array of a :', a)\n",
    "print('Array of b :', b)\n",
    "print('Array of c :', c)\n",
    "print('Array of d :', d)\n",
    "print('Dimensions of a : ',a.ndim)\n",
    "print('Dimensions of b : ',b.ndim)\n",
    "print('Dimensions of c : ',c.ndim)\n",
    "print('Dimensions of d : ',d.ndim)\n",
    "\n",
    "print('Shape of a :',a.shape)\n",
    "print('Shape of b :',b.shape)\n",
    "print('Shape of c :',c.shape)\n",
    "print('Shape of d :',d.shape)\n",
    "\n",
    "print('Size of a :', a.size)\n",
    "print('Size of b :', b.size)\n",
    "print('Size of c :', c.size)\n",
    "print('Size of d :', d.size)\n",
    "\n",
    "print('Type of a :', a.dtype)\n",
    "print('Type of b :', b.dtype)\n",
    "print('Type of c :', c.dtype)\n",
    "print('Type of d :', d.dtype)\n",
    "\n",
    "print('Item size of a :', a.itemsize)\n",
    "print('Item size of b :', b.itemsize)\n",
    "print('Item size of c :', c.itemsize)\n",
    "print('Item size of d :', d.itemsize)"
   ]
  },
  {
   "cell_type": "code",
   "execution_count": 11,
   "id": "c14f195e-c9e9-4519-a7d0-ab22ec2b43f6",
   "metadata": {},
   "outputs": [
    {
     "name": "stdout",
     "output_type": "stream",
     "text": [
      "[[[[[1 2 3 4]]]]]\n",
      "number of dimensions : 5\n"
     ]
    }
   ],
   "source": [
    "arr = np.array([1, 2, 3, 4], ndmin=5)\n",
    "\n",
    "print(arr)\n",
    "print('number of dimensions :', arr.ndim)\n"
   ]
  },
  {
   "cell_type": "code",
   "execution_count": 12,
   "id": "af77de60-4a09-44dc-8d9b-e14900789269",
   "metadata": {},
   "outputs": [
    {
     "name": "stdout",
     "output_type": "stream",
     "text": [
      "[22 33 44 55 66]\n",
      "1\n",
      "(5,)\n"
     ]
    }
   ],
   "source": [
    "import numpy as np\n",
    "ll = [22,33,44,55,66]\n",
    "arr = np.array(ll)\n",
    "print(arr)\n",
    "print(arr.ndim)\n",
    "print(arr.shape)"
   ]
  },
  {
   "cell_type": "code",
   "execution_count": 13,
   "id": "26178db5-4652-417e-88dd-1c1b2de4316d",
   "metadata": {
    "scrolled": true
   },
   "outputs": [
    {
     "name": "stdout",
     "output_type": "stream",
     "text": [
      "4\n",
      "2\n",
      "Row of 2 : [[1. 2. 3.]\n",
      " [4. 5. 6.]]\n",
      "Coloum of 1 : [[4. 5. 6.]\n",
      " [4. 5. 6.]\n",
      " [4. 5. 6.]]\n"
     ]
    }
   ],
   "source": [
    "# Indexing of array\n",
    "aa = np.array('482')\n",
    "bb = np.array([10, 2, 3, 4, 5])\n",
    "cc = np.array([[1, 2, 3], [4, 5, 6]])\n",
    "dd = np.array([[[1.0, 2.0, 3], [4, 5, 6]], [[1, 2, 3], [4, 5, 6.0]], [[1, 2, 3], [4, 5, 6]]])\n",
    "# print(aa[])\n",
    "print(bb[3])\n",
    "print(cc[0,1])\n",
    "print('Row of 2 :',dd[2,:])\n",
    "print('Coloum of 1 :',dd[:, 1])"
   ]
  },
  {
   "cell_type": "code",
   "execution_count": 14,
   "id": "65db176f-18df-4308-a598-f43c7224260a",
   "metadata": {},
   "outputs": [
    {
     "name": "stdout",
     "output_type": "stream",
     "text": [
      "[22 33 44 55 66]\n"
     ]
    }
   ],
   "source": [
    "import numpy as np\n",
    "l = [22,33,44,55,66]\n",
    "arr = np.array(l)\n",
    "print(arr)"
   ]
  },
  {
   "cell_type": "code",
   "execution_count": 17,
   "id": "868abbbb-968e-4019-8bc7-5154d50f01ff",
   "metadata": {},
   "outputs": [
    {
     "name": "stdout",
     "output_type": "stream",
     "text": [
      "dtype of arr : int32\n",
      "size of arr : 5\n",
      "ndim of arr : 1\n",
      "itemsize of arr : 4\n"
     ]
    }
   ],
   "source": [
    "print('dtype of arr :' , arr.dtype)\n",
    "print('size of arr :' , arr.size)\n",
    "print('ndim of arr :' , arr.ndim)\n",
    "print('itemsize of arr :', arr.itemsize)"
   ]
  },
  {
   "cell_type": "code",
   "execution_count": 18,
   "id": "75aa90af-e44d-457e-9e1c-5ab56d23b9e6",
   "metadata": {},
   "outputs": [
    {
     "name": "stdout",
     "output_type": "stream",
     "text": [
      "[ 4  6  7  4  3  1  9  7 66]\n"
     ]
    }
   ],
   "source": [
    "import numpy as np \n",
    "x = np.array([4,6,7,4,3,1,9,7,66])\n",
    "print(x)"
   ]
  },
  {
   "cell_type": "code",
   "execution_count": 19,
   "id": "f44856f7-e525-4f35-bb41-00a74ce012c7",
   "metadata": {},
   "outputs": [
    {
     "name": "stdout",
     "output_type": "stream",
     "text": [
      "[1 2 2 3 3 4 4 4 5 6 6 7 8 9]\n"
     ]
    }
   ],
   "source": [
    "# it will return sorted copy of an array\n",
    "y = np.sort(np.array([3,4,6,8,9,7,6,5,4,4,3,2,2,1]))\n",
    "print(y)"
   ]
  },
  {
   "cell_type": "code",
   "execution_count": 20,
   "id": "5c393917-8eb9-4392-8695-1c5726bce459",
   "metadata": {},
   "outputs": [
    {
     "name": "stdout",
     "output_type": "stream",
     "text": [
      "[13 11 12  0 10  1  8  9  7  2  6  5  3  4]\n"
     ]
    }
   ],
   "source": [
    "# it will return the indices that would sort an array\n",
    "y = np.argsort(np.array([3,4,6,8,9,7,6,5,4,4,3,2,2,1]))\n",
    "print(y)"
   ]
  },
  {
   "cell_type": "code",
   "execution_count": 21,
   "id": "387d507d-f24e-494f-b9f0-cb6eddebfc43",
   "metadata": {},
   "outputs": [
    {
     "name": "stdout",
     "output_type": "stream",
     "text": [
      "[3 4 6 8 9 7 6 5 4 4 3 2 2 1]\n",
      "[1 2 2 3 3 4 4 4 5 6 6 7 8 9]\n"
     ]
    }
   ],
   "source": [
    "# use array name and sort it in_place\n",
    "z = np.array([3,4,6,8,9,7,6,5,4,4,3,2,2,1])\n",
    "print(z)\n",
    "z.sort()\n",
    "print(z)"
   ]
  },
  {
   "cell_type": "code",
   "execution_count": 22,
   "id": "79f55537-a763-435c-94f2-45e72409841b",
   "metadata": {},
   "outputs": [
    {
     "name": "stdout",
     "output_type": "stream",
     "text": [
      "[1 2 2 3 3 4 4 4 5 6 6 7 8 9]\n"
     ]
    }
   ],
   "source": [
    "print(z)"
   ]
  },
  {
   "cell_type": "markdown",
   "id": "27af69cb-d04f-4d29-8e14-9d1a2fbce277",
   "metadata": {},
   "source": [
    "# Statistical operations on 1D array \n",
    "1. max()\n",
    "2. min()\n",
    "3. sum()\n",
    "4. mean()\n",
    "5. median()\n",
    "6. prod()\n",
    "7. var()\n",
    "8. std()"
   ]
  },
  {
   "cell_type": "code",
   "execution_count": 17,
   "id": "4e471d6c-0d4e-4dbc-bc46-09ed3d136454",
   "metadata": {
    "scrolled": true
   },
   "outputs": [
    {
     "name": "stdout",
     "output_type": "stream",
     "text": [
      "Max num of the array:     8\n",
      "Min num of the array:     1\n",
      "Sum of the array:    33\n",
      "Mean of the array: 4.71\n",
      "Median of the array:   4.0\n",
      "Product of the array: 16128\n",
      "Variance of the array:  5.06\n",
      "Standard Deviation of the array:  2.25\n"
     ]
    }
   ],
   "source": [
    "import numpy as np # 1D\n",
    "x = np.array([4,6,7,8,3,4,1])\n",
    "y = f\"Max num of the array: {np.max(x):>5}\"\n",
    "y1 = f\"Min num of the array: {np.min(x):>5}\"\n",
    "y2 = f\"Sum of the array: {np.sum(x):>5}\"\n",
    "y3 = f\"Mean of the array: {np.mean(x):.2f}\" # mean = total sum of all element / total no of element\n",
    "y4 = f\"Median of the array: {np.median(x):>5}\" # first element sorted and fined median element\n",
    "y5 = f\"Product of the array: {np.prod(x):>5}\" # product of all element\n",
    "y6 = f\"Variance of the array: {np.var(x):>5.2f}\"# Variance is a measure of how much the numbers in the array differ from their mean.\n",
    "y7 = f\"Standard Deviation of the array: {np.std(x):>5.2f}\" # square root of variance\n",
    "print(y)\n",
    "print(y1)\n",
    "print(y2)\n",
    "print(y3)\n",
    "print(y4)\n",
    "print(y5)\n",
    "print(y6)\n",
    "print(y7)"
   ]
  },
  {
   "cell_type": "code",
   "execution_count": 1,
   "id": "bbd0a3a4-23ad-448e-b7de-e8379b1ed927",
   "metadata": {},
   "outputs": [
    {
     "name": "stdout",
     "output_type": "stream",
     "text": [
      "Max num of the array:    88\n",
      "Min num of the array:     1\n",
      "Sum of the array:   396\n",
      "Mean of the array: 28.29\n",
      "Median of the array:   9.5\n",
      "Product of the array: -1472004096\n",
      "Variance of the array: 864.35\n",
      "Standard Deviation of the array: 29.40\n"
     ]
    }
   ],
   "source": [
    "import numpy as np # 2D\n",
    "x = np.array([[4,6,7,8,3,4,1],[44,66,77,88,33,44,11]])\n",
    "y = f\"Max num of the array: {np.max(x):>5}\"\n",
    "y1 = f\"Min num of the array: {np.min(x):>5}\"\n",
    "y2 = f\"Sum of the array: {np.sum(x):>5}\"\n",
    "y3 = f\"Mean of the array: {np.mean(x):.2f}\" # mean = total sum of all element / total no of element\n",
    "y4 = f\"Median of the array: {np.median(x):>5}\" # first element sorted and fined median element\n",
    "y5 = f\"Product of the array: {np.prod(x):>5}\" # product of all element\n",
    "y6 = f\"Variance of the array: {np.var(x):>5.2f}\"# Variance is a measure of how much the numbers in the array differ from their mean.\n",
    "y7 = f\"Standard Deviation of the array: {np.std(x):>5.2f}\" # square root of variance\n",
    "print(y)\n",
    "print(y1)\n",
    "print(y2)\n",
    "print(y3)\n",
    "print(y4)\n",
    "print(y5)\n",
    "print(y6)\n",
    "print(y7)"
   ]
  },
  {
   "cell_type": "code",
   "execution_count": 1,
   "id": "2978bdca-57d4-4b32-bcba-4e23f17ae67d",
   "metadata": {},
   "outputs": [
    {
     "name": "stdout",
     "output_type": "stream",
     "text": [
      "Max num of the array:   888\n",
      "Min num of the array:     1\n",
      "Sum of the array:  4059\n",
      "Mean of the array: 193.29\n",
      "Median of the array:  44.0\n",
      "Product of the array: 1392508928\n",
      "Variance of the array: 75812.68\n",
      "Standard Deviation of the array: 275.34\n"
     ]
    }
   ],
   "source": [
    "import numpy as np # 3D\n",
    "x = np.array([[[4,6,7,8,3,4,1],[44,66,77,88,33,44,11],[444,666,777,888,333,444,111]]])\n",
    "y = f\"Max num of the array: {np.max(x):>5}\"\n",
    "y1 = f\"Min num of the array: {np.min(x):>5}\"\n",
    "y2 = f\"Sum of the array: {np.sum(x):>5}\"\n",
    "y3 = f\"Mean of the array: {np.mean(x):.2f}\" # mean = total sum of all element / total no of element\n",
    "y4 = f\"Median of the array: {np.median(x):>5}\" # first elements sorted then fined median element\n",
    "y5 = f\"Product of the array: {np.prod(x):>5}\" # product of all element\n",
    "y6 = f\"Variance of the array: {np.var(x):>5.2f}\"# Variance is a measure of how much the numbers in the array differ from their mean.\n",
    "y7 = f\"Standard Deviation of the array: {np.std(x):>5.2f}\" # square root of variance\n",
    "print(y)\n",
    "print(y1)\n",
    "print(y2)\n",
    "print(y3)\n",
    "print(y4)\n",
    "print(y5)\n",
    "print(y6)\n",
    "print(y7)"
   ]
  },
  {
   "cell_type": "code",
   "execution_count": 13,
   "id": "e5cf8c01-20d4-4490-8fee-0264489c807e",
   "metadata": {
    "scrolled": true
   },
   "outputs": [
    {
     "name": "stdout",
     "output_type": "stream",
     "text": [
      "[[[[[[3 5 6 3 2 2 1]]]]]]\n",
      "int32\n",
      "6\n",
      "(1, 1, 1, 1, 1, 7)\n",
      "4\n",
      "[3 5 6 3 2 2 1]\n",
      "<numpy.core._internal._ctypes object at 0x00000166A5A89450>\n",
      "<memory at 0x00000166A3F5BBA0>\n",
      "  C_CONTIGUOUS : True\n",
      "  F_CONTIGUOUS : True\n",
      "  OWNDATA : False\n",
      "  WRITEABLE : True\n",
      "  ALIGNED : True\n",
      "  WRITEBACKIFCOPY : False\n",
      "\n"
     ]
    }
   ],
   "source": [
    "j = [3,5,6,3,2,2,1]\n",
    "j = np.array(j, ndmin = 6)\n",
    "print(j)\n",
    "print(j.dtype)\n",
    "print(j.ndim)\n",
    "print(j.shape)\n",
    "print(j.itemsize)\n",
    "print(j.base)\n",
    "print(j.ctypes)\n",
    "print(j.data)\n",
    "print(j.flags)"
   ]
  },
  {
   "cell_type": "code",
   "execution_count": 1,
   "id": "6342e77f-cf96-4203-a23c-63f24922bf8c",
   "metadata": {},
   "outputs": [
    {
     "name": "stdout",
     "output_type": "stream",
     "text": [
      "[[[[[1 2 3 4]]]]]\n",
      "shape of array : (1, 1, 1, 1, 4)\n"
     ]
    }
   ],
   "source": [
    "import numpy as np\n",
    "\n",
    "arr = np.array([1, 2, 3, 4], ndmin=5)\n",
    "\n",
    "print(arr)\n",
    "print('shape of array :', arr.shape)"
   ]
  },
  {
   "cell_type": "code",
   "execution_count": 2,
   "id": "ed206e81-fcba-45ba-a380-960e025aaa1d",
   "metadata": {},
   "outputs": [
    {
     "name": "stdout",
     "output_type": "stream",
     "text": [
      "(2, 3)\n"
     ]
    }
   ],
   "source": [
    "import numpy as np\n",
    "arr = np.array([[1, 2, 3], [4, 5, 6]])\n",
    "print(arr.shape)"
   ]
  },
  {
   "cell_type": "code",
   "execution_count": 3,
   "id": "05feadab-a31f-45aa-b238-bd1bc40e2b75",
   "metadata": {},
   "outputs": [
    {
     "name": "stdout",
     "output_type": "stream",
     "text": [
      "[False, False, True, True]\n",
      "[43 44]\n"
     ]
    }
   ],
   "source": [
    "import numpy as np\n",
    "\n",
    "arr = np.array([41, 42, 43, 44])\n",
    "\n",
    "# Create an empty list\n",
    "filter_arr = []\n",
    "\n",
    "# go through each element in arr\n",
    "for element in arr:\n",
    "  # if the element is higher than 42, set the value to True, otherwise False:\n",
    "  if element > 42:\n",
    "    filter_arr.append(True)\n",
    "  else:\n",
    "    filter_arr.append(False)\n",
    "\n",
    "newarr = arr[filter_arr]\n",
    "\n",
    "print(filter_arr)\n",
    "print(newarr)"
   ]
  },
  {
   "cell_type": "code",
   "execution_count": 4,
   "id": "52ee3438-615d-400e-8172-41a301a9171b",
   "metadata": {},
   "outputs": [
    {
     "name": "stdout",
     "output_type": "stream",
     "text": [
      "[False, True, False, True, False, True, False]\n",
      "[2 4 6]\n"
     ]
    }
   ],
   "source": [
    "import numpy as np\n",
    "\n",
    "arr = np.array([1, 2, 3, 4, 5, 6, 7])\n",
    "\n",
    "# Create an empty list\n",
    "filter_arr = []\n",
    "\n",
    "# go through each element in arr\n",
    "for element in arr:\n",
    "  # if the element is completely divisble by 2, set the value to True, otherwise False\n",
    "  if element % 2 == 0:\n",
    "    filter_arr.append(True)\n",
    "  else:\n",
    "    filter_arr.append(False)\n",
    "\n",
    "newarr = arr[filter_arr]\n",
    "\n",
    "print(filter_arr)\n",
    "print(newarr)"
   ]
  },
  {
   "cell_type": "code",
   "execution_count": 5,
   "id": "827c6a5e-4269-402e-b71d-2cdbde5404f1",
   "metadata": {},
   "outputs": [
    {
     "name": "stdout",
     "output_type": "stream",
     "text": [
      "[False False  True  True]\n",
      "[43 44]\n"
     ]
    }
   ],
   "source": [
    "import numpy as np\n",
    "\n",
    "arr = np.array([41, 42, 43, 44])\n",
    "\n",
    "filter_arr = arr > 42\n",
    "\n",
    "newarr = arr[filter_arr]\n",
    "\n",
    "print(filter_arr)\n",
    "print(newarr)"
   ]
  },
  {
   "cell_type": "code",
   "execution_count": 6,
   "id": "e2d6701c-727e-4468-be40-37ed2a2cb7eb",
   "metadata": {},
   "outputs": [
    {
     "name": "stdout",
     "output_type": "stream",
     "text": [
      "Hamza Your Deposit Amount 100 and Current Balance 1100.\n",
      "Hamza Your Withdraw Amount 200 and Current Balance 900.\n",
      "Saleem Your Deposit Amount 100 and Current Balance 2100.\n",
      "Saleem Your Withdraw Amount 200 and Current Balance 1900.\n"
     ]
    }
   ],
   "source": [
    "class Bank_Account: \n",
    "    def __init__(self,name, balance ): \n",
    "        self.name = name\n",
    "        self.balance = balance\n",
    "    def deposit(self, deposit_amount):\n",
    "        self.deposit_amount = deposit_amount\n",
    "        self.balance += deposit_amount\n",
    "        print(f\"{self.name} Your Deposit Amount {self.deposit_amount} and Current Balance {self.balance}.\")\n",
    "    def withdraw(self,withdraw_amount): \n",
    "        self.withdraw_amount = withdraw_amount\n",
    "        if withdraw_amount < self.balance:\n",
    "            self.balance -= withdraw_amount\n",
    "        else:\n",
    "            print(\"Insuffiction Balance!\")\n",
    "        print(f\"{self.name} Your Withdraw Amount {self.withdraw_amount} and Current Balance {self.balance}.\")\n",
    "hamza = Bank_Account(\"Hamza\", 1000)\n",
    "hamza.deposit(100)\n",
    "hamza.withdraw(200)\n",
    "saleem = Bank_Account(\"Saleem\" , 2000)\n",
    "saleem.deposit(100)\n",
    "saleem.withdraw(200)"
   ]
  },
  {
   "cell_type": "code",
   "execution_count": null,
   "id": "fab97a26-a2dd-4ac4-8ff1-be12cd680a3f",
   "metadata": {},
   "outputs": [],
   "source": []
  }
 ],
 "metadata": {
  "kernelspec": {
   "display_name": "Python 3 (ipykernel)",
   "language": "python",
   "name": "python3"
  },
  "language_info": {
   "codemirror_mode": {
    "name": "ipython",
    "version": 3
   },
   "file_extension": ".py",
   "mimetype": "text/x-python",
   "name": "python",
   "nbconvert_exporter": "python",
   "pygments_lexer": "ipython3",
   "version": "3.11.7"
  },
  "widgets": {
   "application/vnd.jupyter.widget-state+json": {
    "state": {},
    "version_major": 2,
    "version_minor": 0
   }
  }
 },
 "nbformat": 4,
 "nbformat_minor": 5
}
