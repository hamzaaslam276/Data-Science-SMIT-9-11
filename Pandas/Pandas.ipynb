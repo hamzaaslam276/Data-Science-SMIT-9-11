{
 "cells": [
  {
   "cell_type": "markdown",
   "id": "c7f03444-8919-454a-878b-7dce582c0729",
   "metadata": {},
   "source": [
    "1. Pandas store tabular data using a DataFrame.\n",
    "2. A DataFrame is a two_dimensional labelled data structure like\n",
    "   a table in databases.\n",
    "3. Every DataFrame contains rows and colums, and therefore\n",
    "   has both a row and colums index.\n",
    "4. Each colum can have a different type of values.\n"
   ]
  },
  {
   "cell_type": "code",
   "execution_count": 47,
   "id": "865760c2-a44e-45d6-b085-47b9655430bc",
   "metadata": {},
   "outputs": [],
   "source": [
    "import pandas as pd"
   ]
  },
  {
   "cell_type": "code",
   "execution_count": 4,
   "id": "8e931089-fc53-43ed-89a2-6bc403d389eb",
   "metadata": {},
   "outputs": [
    {
     "name": "stdout",
     "output_type": "stream",
     "text": [
      "   ID    Name  Age Gander     Address\n",
      "0   1   Hamza   29   male  Faisalabad\n",
      "1   2   Majid   32   male      Lahore\n",
      "2   3  Saleem   30   male  Bohawalpur\n",
      "3   4   Altaf   34   male    Mianwali\n",
      "4   5    Sami   36   male    Mianwali\n"
     ]
    }
   ],
   "source": [
    "std_data = [(1, \"Hamza\", 29 , \"male\" , \"Faisalabad\"),\n",
    "           (2, \"Majid\", 32 , \"male\", \"Lahore\"),\n",
    "           (3, \"Saleem\", 30, \"male\", \"Bohawalpur\"), \n",
    "           (4, \"Altaf\", 34, \"male\", \"Mianwali\"), \n",
    "           (5, \"Sami\", 36, \"male\", \"Mianwali\")]\n",
    "df = pd.DataFrame(std_data,columns=[\"ID\", \"Name\", \"Age\",\"Gander\", \"Address\"])\n",
    "print(df)"
   ]
  },
  {
   "cell_type": "code",
   "execution_count": 44,
   "id": "1dc35fe4-025b-4877-b55b-2419d678005a",
   "metadata": {
    "scrolled": true
   },
   "outputs": [],
   "source": [
    "import csv\n",
    "with open(\"std_data.csv\",\"w\" , newline= \"\") as file:\n",
    "    csv_write = csv.writer(file, delimiter = \",\")\n",
    "    csv_write.writerow([\"ID\", \"Name\", \"Age\",\"Gander\", \"Address\"])\n",
    "    csv_write.writerow([1, \"Hamza\", 29 , \"male\" , \"Faisalabad\"])\n",
    "    csv_write.writerow([2, \"Majid\", 32 , \"male\", \"Lahore\"])\n",
    "    csv_write.writerow([3, \"Saleem\", 30, \"male\", \"Bohawalpur\"])\n",
    "    csv_write.writerow([4, \"Altaf\", 34, \"male\", \"Mianwali\"])\n",
    "    csv_write.writerow([5, \"Sami\", 36, \"male\", \"Mianwali\"])\n",
    "    csv_write.writerow([6, \"Wadood\", 24, \"male\", \"Kohat\"])"
   ]
  },
  {
   "cell_type": "code",
   "execution_count": 77,
   "id": "aa47a7c2-cbd4-4ab3-a6ca-bfd1ea17696e",
   "metadata": {},
   "outputs": [
    {
     "name": "stdout",
     "output_type": "stream",
     "text": [
      "   ID    Name  Age Gander     Address\n",
      "0   1   Hamza   29   male  Faisalabad\n",
      "1   2   Majid   32   male      Lahore\n",
      "2   3  Saleem   30   male  Bohawalpur\n",
      "3   4   Altaf   34   male    Mianwali\n",
      "4   5    Sami   36   male    Mianwali\n",
      "5   6  Wadood   24   male       Kohat\n"
     ]
    }
   ],
   "source": [
    "dff = pd.read_csv(\"std_data.csv\")\n",
    "print(dff)"
   ]
  },
  {
   "cell_type": "code",
   "execution_count": 49,
   "id": "b1ca558a-9aaa-4932-8615-8aa69df9f758",
   "metadata": {
    "scrolled": true
   },
   "outputs": [
    {
     "data": {
      "text/html": [
       "<div>\n",
       "<style scoped>\n",
       "    .dataframe tbody tr th:only-of-type {\n",
       "        vertical-align: middle;\n",
       "    }\n",
       "\n",
       "    .dataframe tbody tr th {\n",
       "        vertical-align: top;\n",
       "    }\n",
       "\n",
       "    .dataframe thead th {\n",
       "        text-align: right;\n",
       "    }\n",
       "</style>\n",
       "<table border=\"1\" class=\"dataframe\">\n",
       "  <thead>\n",
       "    <tr style=\"text-align: right;\">\n",
       "      <th></th>\n",
       "      <th>ID</th>\n",
       "      <th>Name</th>\n",
       "      <th>Age</th>\n",
       "      <th>Gander</th>\n",
       "      <th>Address</th>\n",
       "    </tr>\n",
       "  </thead>\n",
       "  <tbody>\n",
       "    <tr>\n",
       "      <th>0</th>\n",
       "      <td>1</td>\n",
       "      <td>Hamza</td>\n",
       "      <td>29</td>\n",
       "      <td>male</td>\n",
       "      <td>Faisalabad</td>\n",
       "    </tr>\n",
       "    <tr>\n",
       "      <th>1</th>\n",
       "      <td>2</td>\n",
       "      <td>Majid</td>\n",
       "      <td>32</td>\n",
       "      <td>male</td>\n",
       "      <td>Lahore</td>\n",
       "    </tr>\n",
       "    <tr>\n",
       "      <th>2</th>\n",
       "      <td>3</td>\n",
       "      <td>Saleem</td>\n",
       "      <td>30</td>\n",
       "      <td>male</td>\n",
       "      <td>Bohawalpur</td>\n",
       "    </tr>\n",
       "    <tr>\n",
       "      <th>3</th>\n",
       "      <td>4</td>\n",
       "      <td>Altaf</td>\n",
       "      <td>34</td>\n",
       "      <td>male</td>\n",
       "      <td>Mianwali</td>\n",
       "    </tr>\n",
       "    <tr>\n",
       "      <th>4</th>\n",
       "      <td>5</td>\n",
       "      <td>Sami</td>\n",
       "      <td>36</td>\n",
       "      <td>male</td>\n",
       "      <td>Mianwali</td>\n",
       "    </tr>\n",
       "  </tbody>\n",
       "</table>\n",
       "</div>"
      ],
      "text/plain": [
       "   ID    Name  Age Gander     Address\n",
       "0   1   Hamza   29   male  Faisalabad\n",
       "1   2   Majid   32   male      Lahore\n",
       "2   3  Saleem   30   male  Bohawalpur\n",
       "3   4   Altaf   34   male    Mianwali\n",
       "4   5    Sami   36   male    Mianwali"
      ]
     },
     "execution_count": 49,
     "metadata": {},
     "output_type": "execute_result"
    }
   ],
   "source": [
    "dff.head() # output first 5 row"
   ]
  },
  {
   "cell_type": "code",
   "execution_count": 50,
   "id": "7f8b45f1-bf96-4d95-b231-7958303173e6",
   "metadata": {},
   "outputs": [
    {
     "data": {
      "text/html": [
       "<div>\n",
       "<style scoped>\n",
       "    .dataframe tbody tr th:only-of-type {\n",
       "        vertical-align: middle;\n",
       "    }\n",
       "\n",
       "    .dataframe tbody tr th {\n",
       "        vertical-align: top;\n",
       "    }\n",
       "\n",
       "    .dataframe thead th {\n",
       "        text-align: right;\n",
       "    }\n",
       "</style>\n",
       "<table border=\"1\" class=\"dataframe\">\n",
       "  <thead>\n",
       "    <tr style=\"text-align: right;\">\n",
       "      <th></th>\n",
       "      <th>ID</th>\n",
       "      <th>Name</th>\n",
       "      <th>Age</th>\n",
       "      <th>Gander</th>\n",
       "      <th>Address</th>\n",
       "    </tr>\n",
       "  </thead>\n",
       "  <tbody>\n",
       "    <tr>\n",
       "      <th>1</th>\n",
       "      <td>2</td>\n",
       "      <td>Majid</td>\n",
       "      <td>32</td>\n",
       "      <td>male</td>\n",
       "      <td>Lahore</td>\n",
       "    </tr>\n",
       "    <tr>\n",
       "      <th>2</th>\n",
       "      <td>3</td>\n",
       "      <td>Saleem</td>\n",
       "      <td>30</td>\n",
       "      <td>male</td>\n",
       "      <td>Bohawalpur</td>\n",
       "    </tr>\n",
       "    <tr>\n",
       "      <th>3</th>\n",
       "      <td>4</td>\n",
       "      <td>Altaf</td>\n",
       "      <td>34</td>\n",
       "      <td>male</td>\n",
       "      <td>Mianwali</td>\n",
       "    </tr>\n",
       "    <tr>\n",
       "      <th>4</th>\n",
       "      <td>5</td>\n",
       "      <td>Sami</td>\n",
       "      <td>36</td>\n",
       "      <td>male</td>\n",
       "      <td>Mianwali</td>\n",
       "    </tr>\n",
       "    <tr>\n",
       "      <th>5</th>\n",
       "      <td>6</td>\n",
       "      <td>Wadood</td>\n",
       "      <td>24</td>\n",
       "      <td>male</td>\n",
       "      <td>Kohat</td>\n",
       "    </tr>\n",
       "  </tbody>\n",
       "</table>\n",
       "</div>"
      ],
      "text/plain": [
       "   ID    Name  Age Gander     Address\n",
       "1   2   Majid   32   male      Lahore\n",
       "2   3  Saleem   30   male  Bohawalpur\n",
       "3   4   Altaf   34   male    Mianwali\n",
       "4   5    Sami   36   male    Mianwali\n",
       "5   6  Wadood   24   male       Kohat"
      ]
     },
     "execution_count": 50,
     "metadata": {},
     "output_type": "execute_result"
    }
   ],
   "source": [
    "dff.tail() # output last 5 row"
   ]
  },
  {
   "cell_type": "code",
   "execution_count": 51,
   "id": "0e9a470e-ee5b-4b37-804f-dade3543223c",
   "metadata": {},
   "outputs": [
    {
     "name": "stdout",
     "output_type": "stream",
     "text": [
      "Shape of csv file: (6, 5) \n",
      "Size of  csv file: 30 \n"
     ]
    }
   ],
   "source": [
    "s = f\"Shape of csv file: {dff.shape} \"\n",
    "print(s)\n",
    "s1 = f\"Size of  csv file: {dff.size} \"\n",
    "print(s1)"
   ]
  },
  {
   "cell_type": "code",
   "execution_count": 52,
   "id": "43b94b5b-a241-43a8-a5c7-bc17dd476b69",
   "metadata": {},
   "outputs": [
    {
     "data": {
      "text/plain": [
       "0    29\n",
       "1    32\n",
       "2    30\n",
       "3    34\n",
       "4    36\n",
       "5    24\n",
       "Name: Age, dtype: int64"
      ]
     },
     "execution_count": 52,
     "metadata": {},
     "output_type": "execute_result"
    }
   ],
   "source": [
    "dff.Age"
   ]
  },
  {
   "cell_type": "code",
   "execution_count": 53,
   "id": "92e958c8-e12e-464a-a3cb-99c98876aca5",
   "metadata": {},
   "outputs": [
    {
     "data": {
      "text/plain": [
       "0     Hamza\n",
       "1     Majid\n",
       "2    Saleem\n",
       "3     Altaf\n",
       "4      Sami\n",
       "5    Wadood\n",
       "Name: Name, dtype: object"
      ]
     },
     "execution_count": 53,
     "metadata": {},
     "output_type": "execute_result"
    }
   ],
   "source": [
    "dff.Name"
   ]
  },
  {
   "cell_type": "code",
   "execution_count": 54,
   "id": "46d6ea91-9967-46ed-90b4-cee0566630e6",
   "metadata": {},
   "outputs": [
    {
     "data": {
      "text/plain": [
       "0    Faisalabad\n",
       "1        Lahore\n",
       "2    Bohawalpur\n",
       "3      Mianwali\n",
       "4      Mianwali\n",
       "5         Kohat\n",
       "Name: Address, dtype: object"
      ]
     },
     "execution_count": 54,
     "metadata": {},
     "output_type": "execute_result"
    }
   ],
   "source": [
    "dff.Address"
   ]
  },
  {
   "cell_type": "code",
   "execution_count": 55,
   "id": "78d416fa-7e3e-453d-8eca-7948093952ea",
   "metadata": {},
   "outputs": [
    {
     "data": {
      "text/plain": [
       "0    1\n",
       "1    2\n",
       "2    3\n",
       "3    4\n",
       "4    5\n",
       "5    6\n",
       "Name: ID, dtype: int64"
      ]
     },
     "execution_count": 55,
     "metadata": {},
     "output_type": "execute_result"
    }
   ],
   "source": [
    "dff.ID"
   ]
  },
  {
   "cell_type": "code",
   "execution_count": 56,
   "id": "ddfd35eb-4cd7-4288-b29f-1165b4a382eb",
   "metadata": {},
   "outputs": [
    {
     "data": {
      "text/plain": [
       "0    male\n",
       "1    male\n",
       "2    male\n",
       "3    male\n",
       "4    male\n",
       "5    male\n",
       "Name: Gander, dtype: object"
      ]
     },
     "execution_count": 56,
     "metadata": {},
     "output_type": "execute_result"
    }
   ],
   "source": [
    "dff.Gander"
   ]
  },
  {
   "cell_type": "code",
   "execution_count": 57,
   "id": "6e8d5f01-03b4-48d7-a18e-d7dc60ad3d21",
   "metadata": {},
   "outputs": [
    {
     "data": {
      "text/plain": [
       "0    29\n",
       "1    32\n",
       "2    30\n",
       "3    34\n",
       "4    36\n",
       "5    24\n",
       "Name: Age, dtype: int64"
      ]
     },
     "execution_count": 57,
     "metadata": {},
     "output_type": "execute_result"
    }
   ],
   "source": [
    "# Selecting rows and columns \n",
    "# Select a single columns\n",
    "dff['Age']"
   ]
  },
  {
   "cell_type": "code",
   "execution_count": 58,
   "id": "1ea51c31-a256-4f71-98f7-370bb3989300",
   "metadata": {},
   "outputs": [
    {
     "data": {
      "text/html": [
       "<div>\n",
       "<style scoped>\n",
       "    .dataframe tbody tr th:only-of-type {\n",
       "        vertical-align: middle;\n",
       "    }\n",
       "\n",
       "    .dataframe tbody tr th {\n",
       "        vertical-align: top;\n",
       "    }\n",
       "\n",
       "    .dataframe thead th {\n",
       "        text-align: right;\n",
       "    }\n",
       "</style>\n",
       "<table border=\"1\" class=\"dataframe\">\n",
       "  <thead>\n",
       "    <tr style=\"text-align: right;\">\n",
       "      <th></th>\n",
       "      <th>Name</th>\n",
       "      <th>Address</th>\n",
       "    </tr>\n",
       "  </thead>\n",
       "  <tbody>\n",
       "    <tr>\n",
       "      <th>0</th>\n",
       "      <td>Hamza</td>\n",
       "      <td>Faisalabad</td>\n",
       "    </tr>\n",
       "    <tr>\n",
       "      <th>1</th>\n",
       "      <td>Majid</td>\n",
       "      <td>Lahore</td>\n",
       "    </tr>\n",
       "    <tr>\n",
       "      <th>2</th>\n",
       "      <td>Saleem</td>\n",
       "      <td>Bohawalpur</td>\n",
       "    </tr>\n",
       "    <tr>\n",
       "      <th>3</th>\n",
       "      <td>Altaf</td>\n",
       "      <td>Mianwali</td>\n",
       "    </tr>\n",
       "    <tr>\n",
       "      <th>4</th>\n",
       "      <td>Sami</td>\n",
       "      <td>Mianwali</td>\n",
       "    </tr>\n",
       "    <tr>\n",
       "      <th>5</th>\n",
       "      <td>Wadood</td>\n",
       "      <td>Kohat</td>\n",
       "    </tr>\n",
       "  </tbody>\n",
       "</table>\n",
       "</div>"
      ],
      "text/plain": [
       "     Name     Address\n",
       "0   Hamza  Faisalabad\n",
       "1   Majid      Lahore\n",
       "2  Saleem  Bohawalpur\n",
       "3   Altaf    Mianwali\n",
       "4    Sami    Mianwali\n",
       "5  Wadood       Kohat"
      ]
     },
     "execution_count": 58,
     "metadata": {},
     "output_type": "execute_result"
    }
   ],
   "source": [
    "# Select multiple coloumns\n",
    "dff[['Name','Address']]"
   ]
  },
  {
   "cell_type": "code",
   "execution_count": 59,
   "id": "e7afa662-2e74-486e-972c-d8057eb794a6",
   "metadata": {},
   "outputs": [
    {
     "data": {
      "text/plain": [
       "ID                  1\n",
       "Name            Hamza\n",
       "Age                29\n",
       "Gander           male\n",
       "Address    Faisalabad\n",
       "Name: 0, dtype: object"
      ]
     },
     "execution_count": 59,
     "metadata": {},
     "output_type": "execute_result"
    }
   ],
   "source": [
    "# Select a single row by index label\n",
    "dff.loc[0]"
   ]
  },
  {
   "cell_type": "code",
   "execution_count": 60,
   "id": "bea8765c-a178-4a2d-8bcc-93c72802a993",
   "metadata": {},
   "outputs": [
    {
     "data": {
      "text/html": [
       "<div>\n",
       "<style scoped>\n",
       "    .dataframe tbody tr th:only-of-type {\n",
       "        vertical-align: middle;\n",
       "    }\n",
       "\n",
       "    .dataframe tbody tr th {\n",
       "        vertical-align: top;\n",
       "    }\n",
       "\n",
       "    .dataframe thead th {\n",
       "        text-align: right;\n",
       "    }\n",
       "</style>\n",
       "<table border=\"1\" class=\"dataframe\">\n",
       "  <thead>\n",
       "    <tr style=\"text-align: right;\">\n",
       "      <th></th>\n",
       "      <th>ID</th>\n",
       "      <th>Name</th>\n",
       "      <th>Age</th>\n",
       "      <th>Gander</th>\n",
       "      <th>Address</th>\n",
       "    </tr>\n",
       "  </thead>\n",
       "  <tbody>\n",
       "    <tr>\n",
       "      <th>0</th>\n",
       "      <td>1</td>\n",
       "      <td>Hamza</td>\n",
       "      <td>29</td>\n",
       "      <td>male</td>\n",
       "      <td>Faisalabad</td>\n",
       "    </tr>\n",
       "    <tr>\n",
       "      <th>2</th>\n",
       "      <td>3</td>\n",
       "      <td>Saleem</td>\n",
       "      <td>30</td>\n",
       "      <td>male</td>\n",
       "      <td>Bohawalpur</td>\n",
       "    </tr>\n",
       "    <tr>\n",
       "      <th>4</th>\n",
       "      <td>5</td>\n",
       "      <td>Sami</td>\n",
       "      <td>36</td>\n",
       "      <td>male</td>\n",
       "      <td>Mianwali</td>\n",
       "    </tr>\n",
       "  </tbody>\n",
       "</table>\n",
       "</div>"
      ],
      "text/plain": [
       "   ID    Name  Age Gander     Address\n",
       "0   1   Hamza   29   male  Faisalabad\n",
       "2   3  Saleem   30   male  Bohawalpur\n",
       "4   5    Sami   36   male    Mianwali"
      ]
     },
     "execution_count": 60,
     "metadata": {},
     "output_type": "execute_result"
    }
   ],
   "source": [
    "# Select a multiple rows by index labels\n",
    "dff.loc[[0,2,4]]"
   ]
  },
  {
   "cell_type": "code",
   "execution_count": 61,
   "id": "304dd6f1-8ec9-4234-a402-d1017f70ea33",
   "metadata": {},
   "outputs": [
    {
     "data": {
      "text/plain": [
       "ID                  1\n",
       "Name            Hamza\n",
       "Age                29\n",
       "Gander           male\n",
       "Address    Faisalabad\n",
       "Name: 0, dtype: object"
      ]
     },
     "execution_count": 61,
     "metadata": {},
     "output_type": "execute_result"
    }
   ],
   "source": [
    "# Select a single row by integer label\n",
    "dff.iloc[0]"
   ]
  },
  {
   "cell_type": "code",
   "execution_count": 62,
   "id": "b8b255bc-596a-41f8-a536-4214058bbdc7",
   "metadata": {},
   "outputs": [
    {
     "data": {
      "text/html": [
       "<div>\n",
       "<style scoped>\n",
       "    .dataframe tbody tr th:only-of-type {\n",
       "        vertical-align: middle;\n",
       "    }\n",
       "\n",
       "    .dataframe tbody tr th {\n",
       "        vertical-align: top;\n",
       "    }\n",
       "\n",
       "    .dataframe thead th {\n",
       "        text-align: right;\n",
       "    }\n",
       "</style>\n",
       "<table border=\"1\" class=\"dataframe\">\n",
       "  <thead>\n",
       "    <tr style=\"text-align: right;\">\n",
       "      <th></th>\n",
       "      <th>ID</th>\n",
       "      <th>Name</th>\n",
       "      <th>Age</th>\n",
       "      <th>Gander</th>\n",
       "      <th>Address</th>\n",
       "    </tr>\n",
       "  </thead>\n",
       "  <tbody>\n",
       "    <tr>\n",
       "      <th>0</th>\n",
       "      <td>1</td>\n",
       "      <td>Hamza</td>\n",
       "      <td>29</td>\n",
       "      <td>male</td>\n",
       "      <td>Faisalabad</td>\n",
       "    </tr>\n",
       "    <tr>\n",
       "      <th>2</th>\n",
       "      <td>3</td>\n",
       "      <td>Saleem</td>\n",
       "      <td>30</td>\n",
       "      <td>male</td>\n",
       "      <td>Bohawalpur</td>\n",
       "    </tr>\n",
       "  </tbody>\n",
       "</table>\n",
       "</div>"
      ],
      "text/plain": [
       "   ID    Name  Age Gander     Address\n",
       "0   1   Hamza   29   male  Faisalabad\n",
       "2   3  Saleem   30   male  Bohawalpur"
      ]
     },
     "execution_count": 62,
     "metadata": {},
     "output_type": "execute_result"
    }
   ],
   "source": [
    "# Select a multiple rows by integer label\n",
    "dff.iloc[[0,2]]"
   ]
  },
  {
   "cell_type": "code",
   "execution_count": 64,
   "id": "ad276e8e-14bb-4d0d-857d-6c74698b2291",
   "metadata": {},
   "outputs": [
    {
     "data": {
      "text/html": [
       "<div>\n",
       "<style scoped>\n",
       "    .dataframe tbody tr th:only-of-type {\n",
       "        vertical-align: middle;\n",
       "    }\n",
       "\n",
       "    .dataframe tbody tr th {\n",
       "        vertical-align: top;\n",
       "    }\n",
       "\n",
       "    .dataframe thead th {\n",
       "        text-align: right;\n",
       "    }\n",
       "</style>\n",
       "<table border=\"1\" class=\"dataframe\">\n",
       "  <thead>\n",
       "    <tr style=\"text-align: right;\">\n",
       "      <th></th>\n",
       "      <th>ID</th>\n",
       "      <th>Name</th>\n",
       "      <th>Age</th>\n",
       "      <th>Gander</th>\n",
       "      <th>Address</th>\n",
       "    </tr>\n",
       "  </thead>\n",
       "  <tbody>\n",
       "    <tr>\n",
       "      <th>1</th>\n",
       "      <td>2</td>\n",
       "      <td>Majid</td>\n",
       "      <td>32</td>\n",
       "      <td>male</td>\n",
       "      <td>Lahore</td>\n",
       "    </tr>\n",
       "    <tr>\n",
       "      <th>3</th>\n",
       "      <td>4</td>\n",
       "      <td>Altaf</td>\n",
       "      <td>34</td>\n",
       "      <td>male</td>\n",
       "      <td>Mianwali</td>\n",
       "    </tr>\n",
       "    <tr>\n",
       "      <th>4</th>\n",
       "      <td>5</td>\n",
       "      <td>Sami</td>\n",
       "      <td>36</td>\n",
       "      <td>male</td>\n",
       "      <td>Mianwali</td>\n",
       "    </tr>\n",
       "  </tbody>\n",
       "</table>\n",
       "</div>"
      ],
      "text/plain": [
       "   ID   Name  Age Gander   Address\n",
       "1   2  Majid   32   male    Lahore\n",
       "3   4  Altaf   34   male  Mianwali\n",
       "4   5   Sami   36   male  Mianwali"
      ]
     },
     "execution_count": 64,
     "metadata": {},
     "output_type": "execute_result"
    }
   ],
   "source": [
    "# Filtering row \n",
    "dff[dff['Age']> 30]"
   ]
  },
  {
   "cell_type": "code",
   "execution_count": 65,
   "id": "a56a5064-ddf5-47c7-af17-bf614f3ce0a2",
   "metadata": {},
   "outputs": [
    {
     "data": {
      "text/html": [
       "<div>\n",
       "<style scoped>\n",
       "    .dataframe tbody tr th:only-of-type {\n",
       "        vertical-align: middle;\n",
       "    }\n",
       "\n",
       "    .dataframe tbody tr th {\n",
       "        vertical-align: top;\n",
       "    }\n",
       "\n",
       "    .dataframe thead th {\n",
       "        text-align: right;\n",
       "    }\n",
       "</style>\n",
       "<table border=\"1\" class=\"dataframe\">\n",
       "  <thead>\n",
       "    <tr style=\"text-align: right;\">\n",
       "      <th></th>\n",
       "      <th>ID</th>\n",
       "      <th>Name</th>\n",
       "      <th>Age</th>\n",
       "      <th>Gander</th>\n",
       "      <th>Address</th>\n",
       "      <th>Phone No</th>\n",
       "    </tr>\n",
       "  </thead>\n",
       "  <tbody>\n",
       "    <tr>\n",
       "      <th>0</th>\n",
       "      <td>1</td>\n",
       "      <td>Hamza</td>\n",
       "      <td>29</td>\n",
       "      <td>male</td>\n",
       "      <td>Faisalabad</td>\n",
       "      <td>11</td>\n",
       "    </tr>\n",
       "    <tr>\n",
       "      <th>1</th>\n",
       "      <td>2</td>\n",
       "      <td>Majid</td>\n",
       "      <td>32</td>\n",
       "      <td>male</td>\n",
       "      <td>Lahore</td>\n",
       "      <td>22</td>\n",
       "    </tr>\n",
       "    <tr>\n",
       "      <th>2</th>\n",
       "      <td>3</td>\n",
       "      <td>Saleem</td>\n",
       "      <td>30</td>\n",
       "      <td>male</td>\n",
       "      <td>Bohawalpur</td>\n",
       "      <td>33</td>\n",
       "    </tr>\n",
       "    <tr>\n",
       "      <th>3</th>\n",
       "      <td>4</td>\n",
       "      <td>Altaf</td>\n",
       "      <td>34</td>\n",
       "      <td>male</td>\n",
       "      <td>Mianwali</td>\n",
       "      <td>44</td>\n",
       "    </tr>\n",
       "    <tr>\n",
       "      <th>4</th>\n",
       "      <td>5</td>\n",
       "      <td>Sami</td>\n",
       "      <td>36</td>\n",
       "      <td>male</td>\n",
       "      <td>Mianwali</td>\n",
       "      <td>55</td>\n",
       "    </tr>\n",
       "    <tr>\n",
       "      <th>5</th>\n",
       "      <td>6</td>\n",
       "      <td>Wadood</td>\n",
       "      <td>24</td>\n",
       "      <td>male</td>\n",
       "      <td>Kohat</td>\n",
       "      <td>66</td>\n",
       "    </tr>\n",
       "  </tbody>\n",
       "</table>\n",
       "</div>"
      ],
      "text/plain": [
       "   ID    Name  Age Gander     Address  Phone No\n",
       "0   1   Hamza   29   male  Faisalabad        11\n",
       "1   2   Majid   32   male      Lahore        22\n",
       "2   3  Saleem   30   male  Bohawalpur        33\n",
       "3   4   Altaf   34   male    Mianwali        44\n",
       "4   5    Sami   36   male    Mianwali        55\n",
       "5   6  Wadood   24   male       Kohat        66"
      ]
     },
     "execution_count": 65,
     "metadata": {},
     "output_type": "execute_result"
    }
   ],
   "source": [
    "# Adding a New coloumn to a DataFrame \n",
    "dff['Phone No'] = [11,22,33,44,55,66]\n",
    "dff"
   ]
  },
  {
   "cell_type": "code",
   "execution_count": 66,
   "id": "580f5f39-c962-4803-8914-81345f859a08",
   "metadata": {},
   "outputs": [
    {
     "data": {
      "text/html": [
       "<div>\n",
       "<style scoped>\n",
       "    .dataframe tbody tr th:only-of-type {\n",
       "        vertical-align: middle;\n",
       "    }\n",
       "\n",
       "    .dataframe tbody tr th {\n",
       "        vertical-align: top;\n",
       "    }\n",
       "\n",
       "    .dataframe thead th {\n",
       "        text-align: right;\n",
       "    }\n",
       "</style>\n",
       "<table border=\"1\" class=\"dataframe\">\n",
       "  <thead>\n",
       "    <tr style=\"text-align: right;\">\n",
       "      <th></th>\n",
       "      <th>ID</th>\n",
       "      <th>Name</th>\n",
       "      <th>Age</th>\n",
       "      <th>Gander</th>\n",
       "      <th>Address</th>\n",
       "    </tr>\n",
       "  </thead>\n",
       "  <tbody>\n",
       "    <tr>\n",
       "      <th>0</th>\n",
       "      <td>1</td>\n",
       "      <td>Hamza</td>\n",
       "      <td>29</td>\n",
       "      <td>male</td>\n",
       "      <td>Faisalabad</td>\n",
       "    </tr>\n",
       "    <tr>\n",
       "      <th>1</th>\n",
       "      <td>2</td>\n",
       "      <td>Majid</td>\n",
       "      <td>32</td>\n",
       "      <td>male</td>\n",
       "      <td>Lahore</td>\n",
       "    </tr>\n",
       "    <tr>\n",
       "      <th>2</th>\n",
       "      <td>3</td>\n",
       "      <td>Saleem</td>\n",
       "      <td>30</td>\n",
       "      <td>male</td>\n",
       "      <td>Bohawalpur</td>\n",
       "    </tr>\n",
       "    <tr>\n",
       "      <th>3</th>\n",
       "      <td>4</td>\n",
       "      <td>Altaf</td>\n",
       "      <td>34</td>\n",
       "      <td>male</td>\n",
       "      <td>Mianwali</td>\n",
       "    </tr>\n",
       "    <tr>\n",
       "      <th>4</th>\n",
       "      <td>5</td>\n",
       "      <td>Sami</td>\n",
       "      <td>36</td>\n",
       "      <td>male</td>\n",
       "      <td>Mianwali</td>\n",
       "    </tr>\n",
       "    <tr>\n",
       "      <th>5</th>\n",
       "      <td>6</td>\n",
       "      <td>Wadood</td>\n",
       "      <td>24</td>\n",
       "      <td>male</td>\n",
       "      <td>Kohat</td>\n",
       "    </tr>\n",
       "  </tbody>\n",
       "</table>\n",
       "</div>"
      ],
      "text/plain": [
       "   ID    Name  Age Gander     Address\n",
       "0   1   Hamza   29   male  Faisalabad\n",
       "1   2   Majid   32   male      Lahore\n",
       "2   3  Saleem   30   male  Bohawalpur\n",
       "3   4   Altaf   34   male    Mianwali\n",
       "4   5    Sami   36   male    Mianwali\n",
       "5   6  Wadood   24   male       Kohat"
      ]
     },
     "execution_count": 66,
     "metadata": {},
     "output_type": "execute_result"
    }
   ],
   "source": [
    "dff=dff.drop(columns=['Phone No'])\n",
    "dff"
   ]
  },
  {
   "cell_type": "code",
   "execution_count": 78,
   "id": "56b8c322-d2e1-4f7d-90ac-a7028e753011",
   "metadata": {},
   "outputs": [
    {
     "name": "stdout",
     "output_type": "stream",
     "text": [
      "   ID    Name  Age  Phone No Gander     Address\n",
      "0   1   Hamza   29        11   male  Faisalabad\n",
      "1   2   Majid   32        22   male      Lahore\n",
      "2   3  Saleem   30        33   male  Bohawalpur\n",
      "3   4   Altaf   34        44   male    Mianwali\n",
      "4   5    Sami   36        55   male    Mianwali\n",
      "5   6  Wadood   24        66   male       Kohat\n"
     ]
    }
   ],
   "source": [
    "dff.insert(3,'Phone No',[11,22,33,44,55,66])\n",
    "print(dff)"
   ]
  },
  {
   "cell_type": "code",
   "execution_count": 79,
   "id": "9f3cbf3e-99fd-41dc-9512-4d1c07f27a06",
   "metadata": {},
   "outputs": [
    {
     "data": {
      "text/html": [
       "<div>\n",
       "<style scoped>\n",
       "    .dataframe tbody tr th:only-of-type {\n",
       "        vertical-align: middle;\n",
       "    }\n",
       "\n",
       "    .dataframe tbody tr th {\n",
       "        vertical-align: top;\n",
       "    }\n",
       "\n",
       "    .dataframe thead th {\n",
       "        text-align: right;\n",
       "    }\n",
       "</style>\n",
       "<table border=\"1\" class=\"dataframe\">\n",
       "  <thead>\n",
       "    <tr style=\"text-align: right;\">\n",
       "      <th></th>\n",
       "      <th>ID</th>\n",
       "      <th>Name</th>\n",
       "      <th>Stu_Age</th>\n",
       "      <th>Phone No</th>\n",
       "      <th>Gander</th>\n",
       "      <th>Address</th>\n",
       "    </tr>\n",
       "  </thead>\n",
       "  <tbody>\n",
       "    <tr>\n",
       "      <th>0</th>\n",
       "      <td>1</td>\n",
       "      <td>Hamza</td>\n",
       "      <td>29</td>\n",
       "      <td>11</td>\n",
       "      <td>male</td>\n",
       "      <td>Faisalabad</td>\n",
       "    </tr>\n",
       "    <tr>\n",
       "      <th>1</th>\n",
       "      <td>2</td>\n",
       "      <td>Majid</td>\n",
       "      <td>32</td>\n",
       "      <td>22</td>\n",
       "      <td>male</td>\n",
       "      <td>Lahore</td>\n",
       "    </tr>\n",
       "    <tr>\n",
       "      <th>2</th>\n",
       "      <td>3</td>\n",
       "      <td>Saleem</td>\n",
       "      <td>30</td>\n",
       "      <td>33</td>\n",
       "      <td>male</td>\n",
       "      <td>Bohawalpur</td>\n",
       "    </tr>\n",
       "    <tr>\n",
       "      <th>3</th>\n",
       "      <td>4</td>\n",
       "      <td>Altaf</td>\n",
       "      <td>34</td>\n",
       "      <td>44</td>\n",
       "      <td>male</td>\n",
       "      <td>Mianwali</td>\n",
       "    </tr>\n",
       "    <tr>\n",
       "      <th>4</th>\n",
       "      <td>5</td>\n",
       "      <td>Sami</td>\n",
       "      <td>36</td>\n",
       "      <td>55</td>\n",
       "      <td>male</td>\n",
       "      <td>Mianwali</td>\n",
       "    </tr>\n",
       "    <tr>\n",
       "      <th>5</th>\n",
       "      <td>6</td>\n",
       "      <td>Wadood</td>\n",
       "      <td>24</td>\n",
       "      <td>66</td>\n",
       "      <td>male</td>\n",
       "      <td>Kohat</td>\n",
       "    </tr>\n",
       "  </tbody>\n",
       "</table>\n",
       "</div>"
      ],
      "text/plain": [
       "   ID    Name  Stu_Age  Phone No Gander     Address\n",
       "0   1   Hamza       29        11   male  Faisalabad\n",
       "1   2   Majid       32        22   male      Lahore\n",
       "2   3  Saleem       30        33   male  Bohawalpur\n",
       "3   4   Altaf       34        44   male    Mianwali\n",
       "4   5    Sami       36        55   male    Mianwali\n",
       "5   6  Wadood       24        66   male       Kohat"
      ]
     },
     "execution_count": 79,
     "metadata": {},
     "output_type": "execute_result"
    }
   ],
   "source": [
    "dff.rename(columns= {'Age':'Stu_Age'})"
   ]
  },
  {
   "cell_type": "code",
   "execution_count": 82,
   "id": "76f6048a-ff3d-42f0-a486-9bb7be535065",
   "metadata": {},
   "outputs": [
    {
     "data": {
      "text/html": [
       "<div>\n",
       "<style scoped>\n",
       "    .dataframe tbody tr th:only-of-type {\n",
       "        vertical-align: middle;\n",
       "    }\n",
       "\n",
       "    .dataframe tbody tr th {\n",
       "        vertical-align: top;\n",
       "    }\n",
       "\n",
       "    .dataframe thead th {\n",
       "        text-align: right;\n",
       "    }\n",
       "</style>\n",
       "<table border=\"1\" class=\"dataframe\">\n",
       "  <thead>\n",
       "    <tr style=\"text-align: right;\">\n",
       "      <th></th>\n",
       "      <th>ID</th>\n",
       "      <th>Name</th>\n",
       "      <th>Age</th>\n",
       "      <th>Gander</th>\n",
       "      <th>Address</th>\n",
       "    </tr>\n",
       "  </thead>\n",
       "  <tbody>\n",
       "    <tr>\n",
       "      <th>0</th>\n",
       "      <td>1</td>\n",
       "      <td>Hamza</td>\n",
       "      <td>29</td>\n",
       "      <td>male</td>\n",
       "      <td>Faisalabad</td>\n",
       "    </tr>\n",
       "    <tr>\n",
       "      <th>1</th>\n",
       "      <td>2</td>\n",
       "      <td>Majid</td>\n",
       "      <td>32</td>\n",
       "      <td>male</td>\n",
       "      <td>Lahore</td>\n",
       "    </tr>\n",
       "    <tr>\n",
       "      <th>2</th>\n",
       "      <td>3</td>\n",
       "      <td>Saleem</td>\n",
       "      <td>30</td>\n",
       "      <td>male</td>\n",
       "      <td>Bohawalpur</td>\n",
       "    </tr>\n",
       "    <tr>\n",
       "      <th>3</th>\n",
       "      <td>4</td>\n",
       "      <td>Altaf</td>\n",
       "      <td>34</td>\n",
       "      <td>male</td>\n",
       "      <td>Mianwali</td>\n",
       "    </tr>\n",
       "    <tr>\n",
       "      <th>5</th>\n",
       "      <td>6</td>\n",
       "      <td>Wadood</td>\n",
       "      <td>24</td>\n",
       "      <td>male</td>\n",
       "      <td>Kohat</td>\n",
       "    </tr>\n",
       "  </tbody>\n",
       "</table>\n",
       "</div>"
      ],
      "text/plain": [
       "   ID    Name  Age Gander     Address\n",
       "0   1   Hamza   29   male  Faisalabad\n",
       "1   2   Majid   32   male      Lahore\n",
       "2   3  Saleem   30   male  Bohawalpur\n",
       "3   4   Altaf   34   male    Mianwali\n",
       "5   6  Wadood   24   male       Kohat"
      ]
     },
     "execution_count": 82,
     "metadata": {},
     "output_type": "execute_result"
    }
   ],
   "source": [
    "# deleting a row from DataFrame\n",
    "dff = dff.drop(4)\n",
    "dff"
   ]
  },
  {
   "cell_type": "code",
   "execution_count": 85,
   "id": "0145f981-34c8-4269-a883-8bbf3d049e5f",
   "metadata": {},
   "outputs": [
    {
     "data": {
      "text/html": [
       "<div>\n",
       "<style scoped>\n",
       "    .dataframe tbody tr th:only-of-type {\n",
       "        vertical-align: middle;\n",
       "    }\n",
       "\n",
       "    .dataframe tbody tr th {\n",
       "        vertical-align: top;\n",
       "    }\n",
       "\n",
       "    .dataframe thead th {\n",
       "        text-align: right;\n",
       "    }\n",
       "</style>\n",
       "<table border=\"1\" class=\"dataframe\">\n",
       "  <thead>\n",
       "    <tr style=\"text-align: right;\">\n",
       "      <th></th>\n",
       "      <th>ID</th>\n",
       "      <th>Name</th>\n",
       "      <th>Age</th>\n",
       "      <th>Gander</th>\n",
       "      <th>Address</th>\n",
       "    </tr>\n",
       "  </thead>\n",
       "  <tbody>\n",
       "    <tr>\n",
       "      <th>0</th>\n",
       "      <td>1</td>\n",
       "      <td>Hamza</td>\n",
       "      <td>29</td>\n",
       "      <td>male</td>\n",
       "      <td>Faisalabad</td>\n",
       "    </tr>\n",
       "    <tr>\n",
       "      <th>1</th>\n",
       "      <td>2</td>\n",
       "      <td>Majid</td>\n",
       "      <td>32</td>\n",
       "      <td>male</td>\n",
       "      <td>Lahore</td>\n",
       "    </tr>\n",
       "    <tr>\n",
       "      <th>2</th>\n",
       "      <td>3</td>\n",
       "      <td>Saleem</td>\n",
       "      <td>30</td>\n",
       "      <td>male</td>\n",
       "      <td>Bohawalpur</td>\n",
       "    </tr>\n",
       "    <tr>\n",
       "      <th>3</th>\n",
       "      <td>4</td>\n",
       "      <td>Altaf</td>\n",
       "      <td>34</td>\n",
       "      <td>male</td>\n",
       "      <td>Mianwali</td>\n",
       "    </tr>\n",
       "    <tr>\n",
       "      <th>5</th>\n",
       "      <td>6</td>\n",
       "      <td>Wadood</td>\n",
       "      <td>24</td>\n",
       "      <td>male</td>\n",
       "      <td>Kohat</td>\n",
       "    </tr>\n",
       "    <tr>\n",
       "      <th>4</th>\n",
       "      <td>7</td>\n",
       "      <td>Zafar</td>\n",
       "      <td>31</td>\n",
       "      <td>male</td>\n",
       "      <td>Kohat</td>\n",
       "    </tr>\n",
       "  </tbody>\n",
       "</table>\n",
       "</div>"
      ],
      "text/plain": [
       "   ID    Name  Age Gander     Address\n",
       "0   1   Hamza   29   male  Faisalabad\n",
       "1   2   Majid   32   male      Lahore\n",
       "2   3  Saleem   30   male  Bohawalpur\n",
       "3   4   Altaf   34   male    Mianwali\n",
       "5   6  Wadood   24   male       Kohat\n",
       "4   7   Zafar   31   male       Kohat"
      ]
     },
     "execution_count": 85,
     "metadata": {},
     "output_type": "execute_result"
    }
   ],
   "source": [
    "# adding a new row in  existing DaraFrame \n",
    "dff.loc[4] = [7,\"Zafar\",31,\"male\", \"Kohat\"]\n",
    "dff"
   ]
  },
  {
   "cell_type": "code",
   "execution_count": 89,
   "id": "41000ba5-491b-469f-b7ef-86b72a8bbb7d",
   "metadata": {
    "scrolled": true
   },
   "outputs": [
    {
     "data": {
      "text/html": [
       "<div>\n",
       "<style scoped>\n",
       "    .dataframe tbody tr th:only-of-type {\n",
       "        vertical-align: middle;\n",
       "    }\n",
       "\n",
       "    .dataframe tbody tr th {\n",
       "        vertical-align: top;\n",
       "    }\n",
       "\n",
       "    .dataframe thead th {\n",
       "        text-align: right;\n",
       "    }\n",
       "</style>\n",
       "<table border=\"1\" class=\"dataframe\">\n",
       "  <thead>\n",
       "    <tr style=\"text-align: right;\">\n",
       "      <th></th>\n",
       "      <th>ID</th>\n",
       "      <th>Name</th>\n",
       "      <th>Age</th>\n",
       "      <th>Gander</th>\n",
       "      <th>Address</th>\n",
       "      <th>stu_Age</th>\n",
       "    </tr>\n",
       "  </thead>\n",
       "  <tbody>\n",
       "    <tr>\n",
       "      <th>0</th>\n",
       "      <td>1</td>\n",
       "      <td>Hamza</td>\n",
       "      <td>29</td>\n",
       "      <td>male</td>\n",
       "      <td>Faisalabad</td>\n",
       "      <td>NaN</td>\n",
       "    </tr>\n",
       "    <tr>\n",
       "      <th>1</th>\n",
       "      <td>2</td>\n",
       "      <td>Majid</td>\n",
       "      <td>32</td>\n",
       "      <td>male</td>\n",
       "      <td>Lahore</td>\n",
       "      <td>NaN</td>\n",
       "    </tr>\n",
       "    <tr>\n",
       "      <th>2</th>\n",
       "      <td>3</td>\n",
       "      <td>Saleem</td>\n",
       "      <td>35</td>\n",
       "      <td>male</td>\n",
       "      <td>Bohawalpur</td>\n",
       "      <td>33.0</td>\n",
       "    </tr>\n",
       "    <tr>\n",
       "      <th>3</th>\n",
       "      <td>4</td>\n",
       "      <td>Altaf</td>\n",
       "      <td>34</td>\n",
       "      <td>male</td>\n",
       "      <td>Mianwali</td>\n",
       "      <td>NaN</td>\n",
       "    </tr>\n",
       "    <tr>\n",
       "      <th>5</th>\n",
       "      <td>6</td>\n",
       "      <td>Wadood</td>\n",
       "      <td>24</td>\n",
       "      <td>male</td>\n",
       "      <td>Kohat</td>\n",
       "      <td>NaN</td>\n",
       "    </tr>\n",
       "    <tr>\n",
       "      <th>4</th>\n",
       "      <td>7</td>\n",
       "      <td>Zafar</td>\n",
       "      <td>31</td>\n",
       "      <td>male</td>\n",
       "      <td>Kohat</td>\n",
       "      <td>NaN</td>\n",
       "    </tr>\n",
       "  </tbody>\n",
       "</table>\n",
       "</div>"
      ],
      "text/plain": [
       "   ID    Name  Age Gander     Address  stu_Age\n",
       "0   1   Hamza   29   male  Faisalabad      NaN\n",
       "1   2   Majid   32   male      Lahore      NaN\n",
       "2   3  Saleem   35   male  Bohawalpur     33.0\n",
       "3   4   Altaf   34   male    Mianwali      NaN\n",
       "5   6  Wadood   24   male       Kohat      NaN\n",
       "4   7   Zafar   31   male       Kohat      NaN"
      ]
     },
     "execution_count": 89,
     "metadata": {},
     "output_type": "execute_result"
    }
   ],
   "source": [
    "# updating the values \n",
    "dff.loc[2,\"Age\"]= 35\n",
    "dff"
   ]
  },
  {
   "cell_type": "code",
   "execution_count": 92,
   "id": "c62e1d76-f433-4bbe-b45c-dc9f7c70f99e",
   "metadata": {},
   "outputs": [
    {
     "data": {
      "text/html": [
       "<div>\n",
       "<style scoped>\n",
       "    .dataframe tbody tr th:only-of-type {\n",
       "        vertical-align: middle;\n",
       "    }\n",
       "\n",
       "    .dataframe tbody tr th {\n",
       "        vertical-align: top;\n",
       "    }\n",
       "\n",
       "    .dataframe thead th {\n",
       "        text-align: right;\n",
       "    }\n",
       "</style>\n",
       "<table border=\"1\" class=\"dataframe\">\n",
       "  <thead>\n",
       "    <tr style=\"text-align: right;\">\n",
       "      <th></th>\n",
       "      <th>ID</th>\n",
       "      <th>Name</th>\n",
       "      <th>Age</th>\n",
       "      <th>Gander</th>\n",
       "      <th>Address</th>\n",
       "      <th>stu_Age</th>\n",
       "    </tr>\n",
       "  </thead>\n",
       "  <tbody>\n",
       "    <tr>\n",
       "      <th>0</th>\n",
       "      <td>1</td>\n",
       "      <td>Mian Hamza</td>\n",
       "      <td>29</td>\n",
       "      <td>male</td>\n",
       "      <td>Faisalabad</td>\n",
       "      <td>NaN</td>\n",
       "    </tr>\n",
       "    <tr>\n",
       "      <th>1</th>\n",
       "      <td>2</td>\n",
       "      <td>Mian Majid</td>\n",
       "      <td>32</td>\n",
       "      <td>male</td>\n",
       "      <td>Lahore</td>\n",
       "      <td>NaN</td>\n",
       "    </tr>\n",
       "    <tr>\n",
       "      <th>2</th>\n",
       "      <td>3</td>\n",
       "      <td>Saleem</td>\n",
       "      <td>35</td>\n",
       "      <td>male</td>\n",
       "      <td>Bohawalpur</td>\n",
       "      <td>33.0</td>\n",
       "    </tr>\n",
       "    <tr>\n",
       "      <th>3</th>\n",
       "      <td>4</td>\n",
       "      <td>Altaf</td>\n",
       "      <td>34</td>\n",
       "      <td>male</td>\n",
       "      <td>Mianwali</td>\n",
       "      <td>NaN</td>\n",
       "    </tr>\n",
       "    <tr>\n",
       "      <th>5</th>\n",
       "      <td>6</td>\n",
       "      <td>Wadood</td>\n",
       "      <td>24</td>\n",
       "      <td>male</td>\n",
       "      <td>Kohat</td>\n",
       "      <td>NaN</td>\n",
       "    </tr>\n",
       "    <tr>\n",
       "      <th>4</th>\n",
       "      <td>7</td>\n",
       "      <td>Zafar</td>\n",
       "      <td>31</td>\n",
       "      <td>male</td>\n",
       "      <td>Kohat</td>\n",
       "      <td>NaN</td>\n",
       "    </tr>\n",
       "  </tbody>\n",
       "</table>\n",
       "</div>"
      ],
      "text/plain": [
       "   ID        Name  Age Gander     Address  stu_Age\n",
       "0   1  Mian Hamza   29   male  Faisalabad      NaN\n",
       "1   2  Mian Majid   32   male      Lahore      NaN\n",
       "2   3      Saleem   35   male  Bohawalpur     33.0\n",
       "3   4       Altaf   34   male    Mianwali      NaN\n",
       "5   6      Wadood   24   male       Kohat      NaN\n",
       "4   7       Zafar   31   male       Kohat      NaN"
      ]
     },
     "execution_count": 92,
     "metadata": {},
     "output_type": "execute_result"
    }
   ],
   "source": [
    "# updating the multiple values \n",
    "dff.loc[[0,1,2],'Name'] = 'Mian Hamza','Mian Majid' ,'Saleem'\n",
    "dff"
   ]
  },
  {
   "cell_type": "code",
   "execution_count": 95,
   "id": "8ed3cb07-b5de-49a6-ac69-1ee79b1c9a67",
   "metadata": {},
   "outputs": [
    {
     "data": {
      "text/html": [
       "<div>\n",
       "<style scoped>\n",
       "    .dataframe tbody tr th:only-of-type {\n",
       "        vertical-align: middle;\n",
       "    }\n",
       "\n",
       "    .dataframe tbody tr th {\n",
       "        vertical-align: top;\n",
       "    }\n",
       "\n",
       "    .dataframe thead th {\n",
       "        text-align: right;\n",
       "    }\n",
       "</style>\n",
       "<table border=\"1\" class=\"dataframe\">\n",
       "  <thead>\n",
       "    <tr style=\"text-align: right;\">\n",
       "      <th></th>\n",
       "      <th>day</th>\n",
       "      <th>city</th>\n",
       "      <th>temperature</th>\n",
       "      <th>windspeed</th>\n",
       "      <th>event</th>\n",
       "    </tr>\n",
       "  </thead>\n",
       "  <tbody>\n",
       "    <tr>\n",
       "      <th>0</th>\n",
       "      <td>1/1/2017</td>\n",
       "      <td>new york</td>\n",
       "      <td>32</td>\n",
       "      <td>6</td>\n",
       "      <td>Rain</td>\n",
       "    </tr>\n",
       "    <tr>\n",
       "      <th>1</th>\n",
       "      <td>1/2/2017</td>\n",
       "      <td>new york</td>\n",
       "      <td>36</td>\n",
       "      <td>7</td>\n",
       "      <td>Sunny</td>\n",
       "    </tr>\n",
       "    <tr>\n",
       "      <th>2</th>\n",
       "      <td>1/3/2017</td>\n",
       "      <td>new york</td>\n",
       "      <td>28</td>\n",
       "      <td>12</td>\n",
       "      <td>Snow</td>\n",
       "    </tr>\n",
       "    <tr>\n",
       "      <th>3</th>\n",
       "      <td>1/4/2017</td>\n",
       "      <td>new york</td>\n",
       "      <td>33</td>\n",
       "      <td>7</td>\n",
       "      <td>Sunny</td>\n",
       "    </tr>\n",
       "    <tr>\n",
       "      <th>4</th>\n",
       "      <td>1/1/2017</td>\n",
       "      <td>mumbai</td>\n",
       "      <td>90</td>\n",
       "      <td>5</td>\n",
       "      <td>Sunny</td>\n",
       "    </tr>\n",
       "    <tr>\n",
       "      <th>5</th>\n",
       "      <td>1/2/2017</td>\n",
       "      <td>mumbai</td>\n",
       "      <td>85</td>\n",
       "      <td>12</td>\n",
       "      <td>Fog</td>\n",
       "    </tr>\n",
       "    <tr>\n",
       "      <th>6</th>\n",
       "      <td>1/3/2017</td>\n",
       "      <td>mumbai</td>\n",
       "      <td>87</td>\n",
       "      <td>15</td>\n",
       "      <td>Fog</td>\n",
       "    </tr>\n",
       "    <tr>\n",
       "      <th>7</th>\n",
       "      <td>1/4/2017</td>\n",
       "      <td>mumbai</td>\n",
       "      <td>92</td>\n",
       "      <td>5</td>\n",
       "      <td>Rain</td>\n",
       "    </tr>\n",
       "    <tr>\n",
       "      <th>8</th>\n",
       "      <td>1/1/2017</td>\n",
       "      <td>paris</td>\n",
       "      <td>45</td>\n",
       "      <td>20</td>\n",
       "      <td>Sunny</td>\n",
       "    </tr>\n",
       "    <tr>\n",
       "      <th>9</th>\n",
       "      <td>1/2/2017</td>\n",
       "      <td>paris</td>\n",
       "      <td>50</td>\n",
       "      <td>13</td>\n",
       "      <td>Cloudy</td>\n",
       "    </tr>\n",
       "    <tr>\n",
       "      <th>10</th>\n",
       "      <td>1/3/2017</td>\n",
       "      <td>paris</td>\n",
       "      <td>54</td>\n",
       "      <td>8</td>\n",
       "      <td>Cloudy</td>\n",
       "    </tr>\n",
       "    <tr>\n",
       "      <th>11</th>\n",
       "      <td>1/4/2017</td>\n",
       "      <td>paris</td>\n",
       "      <td>42</td>\n",
       "      <td>10</td>\n",
       "      <td>Cloudy</td>\n",
       "    </tr>\n",
       "  </tbody>\n",
       "</table>\n",
       "</div>"
      ],
      "text/plain": [
       "         day      city  temperature  windspeed   event\n",
       "0   1/1/2017  new york           32          6    Rain\n",
       "1   1/2/2017  new york           36          7   Sunny\n",
       "2   1/3/2017  new york           28         12    Snow\n",
       "3   1/4/2017  new york           33          7   Sunny\n",
       "4   1/1/2017    mumbai           90          5   Sunny\n",
       "5   1/2/2017    mumbai           85         12     Fog\n",
       "6   1/3/2017    mumbai           87         15     Fog\n",
       "7   1/4/2017    mumbai           92          5    Rain\n",
       "8   1/1/2017     paris           45         20   Sunny\n",
       "9   1/2/2017     paris           50         13  Cloudy\n",
       "10  1/3/2017     paris           54          8  Cloudy\n",
       "11  1/4/2017     paris           42         10  Cloudy"
      ]
     },
     "execution_count": 95,
     "metadata": {},
     "output_type": "execute_result"
    }
   ],
   "source": [
    "import pandas as pd\n",
    "df = pd.read_csv(\"C:/Users/haier/Downloads/weather_by_cities.csv\")\n",
    "df"
   ]
  },
  {
   "cell_type": "code",
   "execution_count": 113,
   "id": "a494a613-cc02-444a-8f2e-8a9f844200ae",
   "metadata": {},
   "outputs": [
    {
     "data": {
      "text/plain": [
       "<pandas.core.groupby.generic.DataFrameGroupBy object at 0x00000198AE5DF850>"
      ]
     },
     "execution_count": 113,
     "metadata": {},
     "output_type": "execute_result"
    }
   ],
   "source": [
    "g = df.groupby(\"city\")\n",
    "g"
   ]
  },
  {
   "cell_type": "code",
   "execution_count": 104,
   "id": "e5b393fc-f9ed-4b18-b9de-3fba0716fc06",
   "metadata": {},
   "outputs": [
    {
     "name": "stdout",
     "output_type": "stream",
     "text": [
      "City mumbai\n",
      "\n",
      "         day    city  temperature  windspeed  event\n",
      "4  1/1/2017  mumbai           90          5  Sunny\n",
      "5  1/2/2017  mumbai           85         12    Fog\n",
      "6  1/3/2017  mumbai           87         15    Fog\n",
      "7  1/4/2017  mumbai           92          5   Rain\n",
      "City new york\n",
      "\n",
      "         day      city  temperature  windspeed  event\n",
      "0  1/1/2017  new york           32          6   Rain\n",
      "1  1/2/2017  new york           36          7  Sunny\n",
      "2  1/3/2017  new york           28         12   Snow\n",
      "3  1/4/2017  new york           33          7  Sunny\n",
      "City paris\n",
      "\n",
      "          day   city  temperature  windspeed   event\n",
      "8   1/1/2017  paris           45         20   Sunny\n",
      "9   1/2/2017  paris           50         13  Cloudy\n",
      "10  1/3/2017  paris           54          8  Cloudy\n",
      "11  1/4/2017  paris           42         10  Cloudy\n"
     ]
    }
   ],
   "source": [
    "for city,data in g:\n",
    "    print(\"City\", city)\n",
    "    print(\"\\n\",data)\n",
    "    "
   ]
  },
  {
   "cell_type": "code",
   "execution_count": 105,
   "id": "fe18f390-ff28-4d41-af61-148373352973",
   "metadata": {},
   "outputs": [
    {
     "data": {
      "text/html": [
       "<div>\n",
       "<style scoped>\n",
       "    .dataframe tbody tr th:only-of-type {\n",
       "        vertical-align: middle;\n",
       "    }\n",
       "\n",
       "    .dataframe tbody tr th {\n",
       "        vertical-align: top;\n",
       "    }\n",
       "\n",
       "    .dataframe thead th {\n",
       "        text-align: right;\n",
       "    }\n",
       "</style>\n",
       "<table border=\"1\" class=\"dataframe\">\n",
       "  <thead>\n",
       "    <tr style=\"text-align: right;\">\n",
       "      <th></th>\n",
       "      <th>day</th>\n",
       "      <th>temperature</th>\n",
       "      <th>windspeed</th>\n",
       "      <th>event</th>\n",
       "    </tr>\n",
       "    <tr>\n",
       "      <th>city</th>\n",
       "      <th></th>\n",
       "      <th></th>\n",
       "      <th></th>\n",
       "      <th></th>\n",
       "    </tr>\n",
       "  </thead>\n",
       "  <tbody>\n",
       "    <tr>\n",
       "      <th>mumbai</th>\n",
       "      <td>1/4/2017</td>\n",
       "      <td>92</td>\n",
       "      <td>15</td>\n",
       "      <td>Sunny</td>\n",
       "    </tr>\n",
       "    <tr>\n",
       "      <th>new york</th>\n",
       "      <td>1/4/2017</td>\n",
       "      <td>36</td>\n",
       "      <td>12</td>\n",
       "      <td>Sunny</td>\n",
       "    </tr>\n",
       "    <tr>\n",
       "      <th>paris</th>\n",
       "      <td>1/4/2017</td>\n",
       "      <td>54</td>\n",
       "      <td>20</td>\n",
       "      <td>Sunny</td>\n",
       "    </tr>\n",
       "  </tbody>\n",
       "</table>\n",
       "</div>"
      ],
      "text/plain": [
       "               day  temperature  windspeed  event\n",
       "city                                             \n",
       "mumbai    1/4/2017           92         15  Sunny\n",
       "new york  1/4/2017           36         12  Sunny\n",
       "paris     1/4/2017           54         20  Sunny"
      ]
     },
     "execution_count": 105,
     "metadata": {},
     "output_type": "execute_result"
    }
   ],
   "source": [
    "g.max()"
   ]
  },
  {
   "cell_type": "code",
   "execution_count": 107,
   "id": "b4a89afd-254c-477d-b7ca-f7d460fb13d2",
   "metadata": {},
   "outputs": [
    {
     "data": {
      "text/plain": [
       "city\n",
       "mumbai      92\n",
       "new york    36\n",
       "paris       54\n",
       "Name: temperature, dtype: int64"
      ]
     },
     "execution_count": 107,
     "metadata": {},
     "output_type": "execute_result"
    }
   ],
   "source": [
    "g['temperature'].max()"
   ]
  },
  {
   "cell_type": "code",
   "execution_count": 111,
   "id": "e48235a1-167d-4c36-96c5-126dba27654c",
   "metadata": {},
   "outputs": [
    {
     "data": {
      "text/plain": [
       "city\n",
       "mumbai       9.25\n",
       "new york     8.00\n",
       "paris       12.75\n",
       "Name: windspeed, dtype: float64"
      ]
     },
     "execution_count": 111,
     "metadata": {},
     "output_type": "execute_result"
    }
   ],
   "source": [
    "g['windspeed'].mean()"
   ]
  },
  {
   "cell_type": "code",
   "execution_count": 110,
   "id": "c2f92464-9fe9-4b05-ad13-e79a6d5f7d35",
   "metadata": {},
   "outputs": [
    {
     "data": {
      "text/plain": [
       "<bound method GroupBy.mean of <pandas.core.groupby.generic.SeriesGroupBy object at 0x00000198AEB7C710>>"
      ]
     },
     "execution_count": 110,
     "metadata": {},
     "output_type": "execute_result"
    }
   ],
   "source": [
    "g['windspeed'].mean()"
   ]
  },
  {
   "cell_type": "code",
   "execution_count": 114,
   "id": "d3f7ecb3-0a28-498f-b532-72dac1bb50cb",
   "metadata": {},
   "outputs": [
    {
     "data": {
      "text/html": [
       "<div>\n",
       "<style scoped>\n",
       "    .dataframe tbody tr th:only-of-type {\n",
       "        vertical-align: middle;\n",
       "    }\n",
       "\n",
       "    .dataframe tbody tr th {\n",
       "        vertical-align: top;\n",
       "    }\n",
       "\n",
       "    .dataframe thead tr th {\n",
       "        text-align: left;\n",
       "    }\n",
       "\n",
       "    .dataframe thead tr:last-of-type th {\n",
       "        text-align: right;\n",
       "    }\n",
       "</style>\n",
       "<table border=\"1\" class=\"dataframe\">\n",
       "  <thead>\n",
       "    <tr>\n",
       "      <th></th>\n",
       "      <th colspan=\"8\" halign=\"left\">temperature</th>\n",
       "      <th colspan=\"8\" halign=\"left\">windspeed</th>\n",
       "    </tr>\n",
       "    <tr>\n",
       "      <th></th>\n",
       "      <th>count</th>\n",
       "      <th>mean</th>\n",
       "      <th>std</th>\n",
       "      <th>min</th>\n",
       "      <th>25%</th>\n",
       "      <th>50%</th>\n",
       "      <th>75%</th>\n",
       "      <th>max</th>\n",
       "      <th>count</th>\n",
       "      <th>mean</th>\n",
       "      <th>std</th>\n",
       "      <th>min</th>\n",
       "      <th>25%</th>\n",
       "      <th>50%</th>\n",
       "      <th>75%</th>\n",
       "      <th>max</th>\n",
       "    </tr>\n",
       "    <tr>\n",
       "      <th>city</th>\n",
       "      <th></th>\n",
       "      <th></th>\n",
       "      <th></th>\n",
       "      <th></th>\n",
       "      <th></th>\n",
       "      <th></th>\n",
       "      <th></th>\n",
       "      <th></th>\n",
       "      <th></th>\n",
       "      <th></th>\n",
       "      <th></th>\n",
       "      <th></th>\n",
       "      <th></th>\n",
       "      <th></th>\n",
       "      <th></th>\n",
       "      <th></th>\n",
       "    </tr>\n",
       "  </thead>\n",
       "  <tbody>\n",
       "    <tr>\n",
       "      <th>mumbai</th>\n",
       "      <td>4.0</td>\n",
       "      <td>88.50</td>\n",
       "      <td>3.109126</td>\n",
       "      <td>85.0</td>\n",
       "      <td>86.50</td>\n",
       "      <td>88.5</td>\n",
       "      <td>90.50</td>\n",
       "      <td>92.0</td>\n",
       "      <td>4.0</td>\n",
       "      <td>9.25</td>\n",
       "      <td>5.057997</td>\n",
       "      <td>5.0</td>\n",
       "      <td>5.00</td>\n",
       "      <td>8.5</td>\n",
       "      <td>12.75</td>\n",
       "      <td>15.0</td>\n",
       "    </tr>\n",
       "    <tr>\n",
       "      <th>new york</th>\n",
       "      <td>4.0</td>\n",
       "      <td>32.25</td>\n",
       "      <td>3.304038</td>\n",
       "      <td>28.0</td>\n",
       "      <td>31.00</td>\n",
       "      <td>32.5</td>\n",
       "      <td>33.75</td>\n",
       "      <td>36.0</td>\n",
       "      <td>4.0</td>\n",
       "      <td>8.00</td>\n",
       "      <td>2.708013</td>\n",
       "      <td>6.0</td>\n",
       "      <td>6.75</td>\n",
       "      <td>7.0</td>\n",
       "      <td>8.25</td>\n",
       "      <td>12.0</td>\n",
       "    </tr>\n",
       "    <tr>\n",
       "      <th>paris</th>\n",
       "      <td>4.0</td>\n",
       "      <td>47.75</td>\n",
       "      <td>5.315073</td>\n",
       "      <td>42.0</td>\n",
       "      <td>44.25</td>\n",
       "      <td>47.5</td>\n",
       "      <td>51.00</td>\n",
       "      <td>54.0</td>\n",
       "      <td>4.0</td>\n",
       "      <td>12.75</td>\n",
       "      <td>5.251984</td>\n",
       "      <td>8.0</td>\n",
       "      <td>9.50</td>\n",
       "      <td>11.5</td>\n",
       "      <td>14.75</td>\n",
       "      <td>20.0</td>\n",
       "    </tr>\n",
       "  </tbody>\n",
       "</table>\n",
       "</div>"
      ],
      "text/plain": [
       "         temperature                                                   \\\n",
       "               count   mean       std   min    25%   50%    75%   max   \n",
       "city                                                                    \n",
       "mumbai           4.0  88.50  3.109126  85.0  86.50  88.5  90.50  92.0   \n",
       "new york         4.0  32.25  3.304038  28.0  31.00  32.5  33.75  36.0   \n",
       "paris            4.0  47.75  5.315073  42.0  44.25  47.5  51.00  54.0   \n",
       "\n",
       "         windspeed                                                 \n",
       "             count   mean       std  min   25%   50%    75%   max  \n",
       "city                                                               \n",
       "mumbai         4.0   9.25  5.057997  5.0  5.00   8.5  12.75  15.0  \n",
       "new york       4.0   8.00  2.708013  6.0  6.75   7.0   8.25  12.0  \n",
       "paris          4.0  12.75  5.251984  8.0  9.50  11.5  14.75  20.0  "
      ]
     },
     "execution_count": 114,
     "metadata": {},
     "output_type": "execute_result"
    }
   ],
   "source": [
    "g.describe()"
   ]
  },
  {
   "cell_type": "code",
   "execution_count": 115,
   "id": "d6072c7b-2177-41cf-9287-be1e4293c03f",
   "metadata": {},
   "outputs": [
    {
     "name": "stdout",
     "output_type": "stream",
     "text": [
      "day1    420\n",
      "day2    380\n",
      "day3    390\n",
      "dtype: int64\n"
     ]
    }
   ],
   "source": [
    "import pandas as pd\n",
    "\n",
    "calories = {\"day1\": 420, \"day2\": 380, \"day3\": 390}\n",
    "\n",
    "myvar = pd.Series(calories)\n",
    "\n",
    "print(myvar)"
   ]
  },
  {
   "cell_type": "code",
   "execution_count": 116,
   "id": "eba25b52-171b-4eb5-99c5-bc622ce45411",
   "metadata": {},
   "outputs": [
    {
     "name": "stdout",
     "output_type": "stream",
     "text": [
      "day1    420\n",
      "day2    380\n",
      "dtype: int64\n"
     ]
    }
   ],
   "source": [
    "import pandas as pd\n",
    "\n",
    "calories = {\"day1\": 420, \"day2\": 380, \"day3\": 390}\n",
    "\n",
    "myvar = pd.Series(calories, index = [\"day1\", \"day2\"])\n",
    "\n",
    "print(myvar)"
   ]
  },
  {
   "cell_type": "code",
   "execution_count": 119,
   "id": "99bb39dc-1139-40f1-8061-cc663faad312",
   "metadata": {},
   "outputs": [
    {
     "name": "stdout",
     "output_type": "stream",
     "text": [
      "      calories  duration\n",
      "day1       420        50\n",
      "day2       380        40\n",
      "day3       390        45\n"
     ]
    }
   ],
   "source": [
    "import pandas as pd\n",
    "\n",
    "data = {\n",
    "  \"calories\": [420, 380, 390],\n",
    "  \"duration\": [50, 40, 45]\n",
    "}\n",
    "\n",
    "df = pd.DataFrame(data, index = [\"day1\", \"day2\", \"day3\"])\n",
    "\n",
    "print(df) "
   ]
  },
  {
   "cell_type": "code",
   "execution_count": 125,
   "id": "1040baeb-b572-47a3-a567-ee7262bfa0d0",
   "metadata": {},
   "outputs": [
    {
     "data": {
      "text/plain": [
       "calories    420\n",
       "duration     50\n",
       "Name: day1, dtype: int64"
      ]
     },
     "execution_count": 125,
     "metadata": {},
     "output_type": "execute_result"
    }
   ],
   "source": [
    "df.loc['day1']"
   ]
  },
  {
   "cell_type": "code",
   "execution_count": 129,
   "id": "b222191a-b8d7-49b0-940c-c2e2042dfc83",
   "metadata": {},
   "outputs": [
    {
     "data": {
      "text/html": [
       "<div>\n",
       "<style scoped>\n",
       "    .dataframe tbody tr th:only-of-type {\n",
       "        vertical-align: middle;\n",
       "    }\n",
       "\n",
       "    .dataframe tbody tr th {\n",
       "        vertical-align: top;\n",
       "    }\n",
       "\n",
       "    .dataframe thead th {\n",
       "        text-align: right;\n",
       "    }\n",
       "</style>\n",
       "<table border=\"1\" class=\"dataframe\">\n",
       "  <thead>\n",
       "    <tr style=\"text-align: right;\">\n",
       "      <th></th>\n",
       "      <th>calories</th>\n",
       "      <th>duration</th>\n",
       "    </tr>\n",
       "  </thead>\n",
       "  <tbody>\n",
       "    <tr>\n",
       "      <th>day3</th>\n",
       "      <td>390</td>\n",
       "      <td>45</td>\n",
       "    </tr>\n",
       "    <tr>\n",
       "      <th>day1</th>\n",
       "      <td>420</td>\n",
       "      <td>50</td>\n",
       "    </tr>\n",
       "  </tbody>\n",
       "</table>\n",
       "</div>"
      ],
      "text/plain": [
       "      calories  duration\n",
       "day3       390        45\n",
       "day1       420        50"
      ]
     },
     "execution_count": 129,
     "metadata": {},
     "output_type": "execute_result"
    }
   ],
   "source": [
    "df.loc[['day3','day1']]"
   ]
  },
  {
   "cell_type": "code",
   "execution_count": 130,
   "id": "9dc8235f-b974-43cf-a0fc-387cba809e2e",
   "metadata": {},
   "outputs": [
    {
     "name": "stdout",
     "output_type": "stream",
     "text": [
      "   Duration  Pulse  Maxpulse  Calories\n",
      "0        60    110       130       409\n",
      "1        60    117       145       479\n",
      "2        60    103       135       340\n",
      "3        45    109       175       282\n",
      "4        45    117       148       406\n",
      "5        60    102       127       300\n"
     ]
    }
   ],
   "source": [
    "import pandas as pd\n",
    "\n",
    "data = {\n",
    "  \"Duration\":{\n",
    "    \"0\":60,\n",
    "    \"1\":60,\n",
    "    \"2\":60,\n",
    "    \"3\":45,\n",
    "    \"4\":45,\n",
    "    \"5\":60\n",
    "  },\n",
    "  \"Pulse\":{\n",
    "    \"0\":110,\n",
    "    \"1\":117,\n",
    "    \"2\":103,\n",
    "    \"3\":109,\n",
    "    \"4\":117,\n",
    "    \"5\":102\n",
    "  },\n",
    "  \"Maxpulse\":{\n",
    "    \"0\":130,\n",
    "    \"1\":145,\n",
    "    \"2\":135,\n",
    "    \"3\":175,\n",
    "    \"4\":148,\n",
    "    \"5\":127\n",
    "  },\n",
    "  \"Calories\":{\n",
    "    \"0\":409,\n",
    "    \"1\":479,\n",
    "    \"2\":340,\n",
    "    \"3\":282,\n",
    "    \"4\":406,\n",
    "    \"5\":300\n",
    "  }\n",
    "}\n",
    "\n",
    "df = pd.DataFrame(data)\n",
    "\n",
    "print(df) "
   ]
  },
  {
   "cell_type": "code",
   "execution_count": 131,
   "id": "9af87cf0-f020-4df8-83fb-460233ab8401",
   "metadata": {
    "scrolled": true
   },
   "outputs": [
    {
     "name": "stdout",
     "output_type": "stream",
     "text": [
      "<class 'pandas.core.frame.DataFrame'>\n",
      "Index: 6 entries, 0 to 4\n",
      "Data columns (total 6 columns):\n",
      " #   Column   Non-Null Count  Dtype  \n",
      "---  ------   --------------  -----  \n",
      " 0   ID       6 non-null      int64  \n",
      " 1   Name     6 non-null      object \n",
      " 2   Age      6 non-null      int64  \n",
      " 3   Gander   6 non-null      object \n",
      " 4   Address  6 non-null      object \n",
      " 5   stu_Age  1 non-null      float64\n",
      "dtypes: float64(1), int64(2), object(3)\n",
      "memory usage: 508.0+ bytes\n"
     ]
    }
   ],
   "source": [
    "dff.info()"
   ]
  },
  {
   "cell_type": "code",
   "execution_count": null,
   "id": "e1dc4a77-a17e-439e-b6a9-8bf465c66eb5",
   "metadata": {},
   "outputs": [],
   "source": []
  }
 ],
 "metadata": {
  "kernelspec": {
   "display_name": "Python 3 (ipykernel)",
   "language": "python",
   "name": "python3"
  },
  "language_info": {
   "codemirror_mode": {
    "name": "ipython",
    "version": 3
   },
   "file_extension": ".py",
   "mimetype": "text/x-python",
   "name": "python",
   "nbconvert_exporter": "python",
   "pygments_lexer": "ipython3",
   "version": "3.11.7"
  },
  "widgets": {
   "application/vnd.jupyter.widget-state+json": {
    "state": {},
    "version_major": 2,
    "version_minor": 0
   }
  }
 },
 "nbformat": 4,
 "nbformat_minor": 5
}
